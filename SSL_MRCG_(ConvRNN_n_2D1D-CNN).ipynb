{
 "cells": [
  {
   "cell_type": "markdown",
   "metadata": {},
   "source": [
    "<div style=\"text-align: right\"> - last edit : 2019. 05. 20 </div>\n",
    "\n",
    "## SSL (방위각 추정)\n",
    "- Based on MRCG\n",
    "- Using 2DCNN plus 1DCNN\n",
    "\n",
    "### Inputs : \n",
    "- Input : MRCG of Left and Right Channels  "
   ]
  },
  {
   "cell_type": "code",
   "execution_count": 1,
   "metadata": {},
   "outputs": [
    {
     "data": {
      "text/plain": [
       "('2.1.6-tf', '1.12.0')"
      ]
     },
     "execution_count": 1,
     "metadata": {},
     "output_type": "execute_result"
    }
   ],
   "source": [
    "# Common imports\n",
    "import numpy as np\n",
    "import pandas as pd\n",
    "import os, sys, glob  \n",
    "import tensorflow as tf\n",
    "\n",
    "import librosa\n",
    "import librosa.display\n",
    "\n",
    "# To plot pretty figures\n",
    "# import matplotlib\n",
    "import matplotlib.pyplot as plt\n",
    "%matplotlib inline\n",
    "# plt.style.use('ggplot')\n",
    "plt.rcParams['axes.labelsize'] = 14\n",
    "plt.rcParams['xtick.labelsize'] = 12\n",
    "plt.rcParams['ytick.labelsize'] = 12\n",
    "\n",
    "def reset_graph(seed=42):\n",
    "    tf.reset_default_graph() \n",
    "    tf.set_random_seed(seed)\n",
    "    np.random.seed(seed)\n",
    "    \n",
    "def reset_keras_session(seed=42):\n",
    "    tf.keras.backend.clear_session()\n",
    "    tf.set_random_seed(seed)\n",
    "    np.random.seed(seed)\n",
    "\n",
    "# import warnings\n",
    "# warnings.filterwarnings(\"ignore\")   # To rid of warnings \n",
    "\n",
    "os_sep = os.sep \n",
    "\n",
    "if sys.platform == 'win32':   # if windows \n",
    "    home = os.path.join('D:', os.sep, 'hblee')   # d:\\hblee\n",
    "    data_repo = os.path.join('D:', os.sep, 'Data_Repo_Win')   # d:\\Data_Repo_Win\n",
    "elif sys.platform == \"linux\" or sys.platform == \"linux2\" :    # if linux \n",
    "    home = os.path.expanduser(\"~\")   # home = os.getenv(\"HOME\")\n",
    "    data_repo = os.path.join(home, 'Data_Repo')\n",
    "    \n",
    "sys.path.append(os.path.join(home, 'Google_Sync', 'Dev_Exercise', 'utils'))\n",
    "# from tf_utils import *\n",
    "    \n",
    "import MRCG as mrcg\n",
    "import scipy.io.wavfile\n",
    "import wave\n",
    "import time\n",
    "\n",
    "from tensorflow import keras \n",
    "keras.__version__, tf.VERSION"
   ]
  },
  {
   "cell_type": "code",
   "execution_count": 2,
   "metadata": {},
   "outputs": [],
   "source": [
    "def show_model_graph(model, to_file=\"./temp_model_plot.png\", show_shapes=True):\n",
    "    from IPython.display import Image\n",
    "    from tensorflow.keras.utils import plot_model\n",
    "    \n",
    "    plot_model(model, to_file, show_shapes=show_shapes)\n",
    "    return Image(to_file) "
   ]
  },
  {
   "cell_type": "code",
   "execution_count": 3,
   "metadata": {},
   "outputs": [
    {
     "name": "stdout",
     "output_type": "stream",
     "text": [
      "50\n",
      "50\n"
     ]
    }
   ],
   "source": [
    "sample_vad_seg_repo = os.path.join('..', 'Data', 'binary_segment')   # 적절하게 변경 필요 \n",
    "samples_vad_seg = glob.glob(os.path.join(sample_vad_seg_repo, '**', '*[npy|npz]'), recursive=True)\n",
    "\n",
    "samples_vad_seg = sorted(samples_vad_seg)   \n",
    "print(len(samples_vad_seg))\n",
    "# list(enumerate(samples_vad_seg))\n",
    "\n",
    "sample_data_repo = os.path.join('..', 'Data', 'sample_data', 't3_audio')\n",
    "samples = glob.glob(os.path.join(sample_data_repo, '**', '*wav'), recursive=True)\n",
    "samples = sorted(samples)   # sort the samples\n",
    "print(len(samples))"
   ]
  },
  {
   "cell_type": "code",
   "execution_count": 4,
   "metadata": {},
   "outputs": [
    {
     "data": {
      "text/plain": [
       "[('..\\\\Data\\\\binary_segment\\\\01.npy',\n",
       "  '..\\\\Data\\\\sample_data\\\\t3_audio\\\\t3_audio_0001.wav'),\n",
       " ('..\\\\Data\\\\binary_segment\\\\08.npy',\n",
       "  '..\\\\Data\\\\sample_data\\\\t3_audio\\\\t3_audio_0008.wav'),\n",
       " ('..\\\\Data\\\\binary_segment\\\\15.npy',\n",
       "  '..\\\\Data\\\\sample_data\\\\t3_audio\\\\t3_audio_0015.wav'),\n",
       " ('..\\\\Data\\\\binary_segment\\\\22.npy',\n",
       "  '..\\\\Data\\\\sample_data\\\\t3_audio\\\\t3_audio_0022.wav'),\n",
       " ('..\\\\Data\\\\binary_segment\\\\29.npy',\n",
       "  '..\\\\Data\\\\sample_data\\\\t3_audio\\\\t3_audio_0029.wav'),\n",
       " ('..\\\\Data\\\\binary_segment\\\\36.npy',\n",
       "  '..\\\\Data\\\\sample_data\\\\t3_audio\\\\t3_audio_0036.wav'),\n",
       " ('..\\\\Data\\\\binary_segment\\\\sample_data_43.npz',\n",
       "  '..\\\\Data\\\\sample_data\\\\t3_audio\\\\t3_audio_0043.wav'),\n",
       " ('..\\\\Data\\\\binary_segment\\\\sample_data_50.npz',\n",
       "  '..\\\\Data\\\\sample_data\\\\t3_audio\\\\t3_audio_0050.wav')]"
      ]
     },
     "execution_count": 4,
     "metadata": {},
     "output_type": "execute_result"
    }
   ],
   "source": [
    "# Check if the \"samples_vad_seg\" and \"samples\" are aligned \n",
    "list(zip(samples_vad_seg, samples))[::7]"
   ]
  },
  {
   "cell_type": "markdown",
   "metadata": {},
   "source": [
    "### Note ; `samples_vad_seg` 와 `samples` 가 align 되어야 함\n",
    "\n",
    "처음 12개 샘플 (0도)을 [0|1]* 로 레이블링한 것은 왼쪽 것을 사용해야 함.  오른쪽 채널을 모두 0 으로 하였기에."
   ]
  },
  {
   "cell_type": "code",
   "execution_count": 5,
   "metadata": {},
   "outputs": [
    {
     "name": "stdout",
     "output_type": "stream",
     "text": [
      "(2, 126155)\n",
      "1.0    92610\n",
      "0.0    33545\n",
      "dtype: int64\n",
      "\n",
      "0.0    126155\n",
      "dtype: int64\n"
     ]
    }
   ],
   "source": [
    "# testing for a sample in 0-degree set\n",
    "audio = np.load(samples_vad_seg[0])\n",
    "print(audio.shape)\n",
    "\n",
    "print(pd.Series(audio[0]).value_counts())\n",
    "print()\n",
    "print(pd.Series(audio[1]).value_counts())"
   ]
  },
  {
   "cell_type": "code",
   "execution_count": 6,
   "metadata": {},
   "outputs": [],
   "source": [
    "def mrcg_generation(file_path, sr=44100):\n",
    "    \"\"\"\n",
    "    file_path : path to the audio file \n",
    "    \"\"\"\n",
    "    X, sample_rate = librosa.load(file_path, sr=sr, mono=False)\n",
    "    mrcg_L = mrcg.mrcg_extract(X[0], sample_rate)\n",
    "    mrcg_R = mrcg.mrcg_extract(X[1], sample_rate)\n",
    "    \n",
    "    return mrcg_L, mrcg_R\n",
    "\n",
    "def generate_instances(array_2d, seq_len, hop, label):\n",
    "    \"\"\"\n",
    "    array_2d : spectrogram or mrcg like (contrains frames generated from the audio file)\n",
    "    seq_len : number of frames in an instance\n",
    "    hop : jump between the instances \n",
    "    label : 0 and 1's. Has same length as original numpy vector from the audio \n",
    "    \"\"\"\n",
    "\n",
    "    row_size, col_size = array_2d.shape[0], array_2d.shape[1]\n",
    "    ratio = len(label)/col_size    # audio_samples per frame \n",
    "    stack_array = []    # 4D tensor that will hold the instances\n",
    "    label_array = []\n",
    "\n",
    "    j=0\n",
    "    while j <= (col_size - (seq_len+1)): \n",
    "        context_frame = array_2d[:, j:(j+seq_len)]\n",
    "        seg_label = round(label[int(j*ratio):int((j+seq_len)*ratio)].mean())  \n",
    "        \n",
    "        stack_array.append(context_frame[:,:,np.newaxis]) # build context_frame to 3d tensor & append \n",
    "        label_array.append(seg_label)\n",
    "            \n",
    "        j = j+hop\n",
    "        \n",
    "    return np.stack(stack_array, axis=0), label_array   # Return 4D tensor "
   ]
  },
  {
   "cell_type": "code",
   "execution_count": null,
   "metadata": {},
   "outputs": [],
   "source": [
    "%%time\n",
    "\n",
    "# samples_vad_seg : list with paths to a file that segments audio file/sample to noise and signal \n",
    "# samples : list with paths to original audio files\n",
    "\n",
    "mrcg_L_tensor = []   # holds 1sec mcrg instances generated from the left, grouped with audio samples \n",
    "mrcg_R_tensor = []   # holds 1sec mcrg instances generated from the right, grouped with audio samples \n",
    "label_list = [] \n",
    "\n",
    "for i in range(0, 50):   # 'samples_vad_seg' and 'samples' are aligned\n",
    "    print(\"%d, \"%(i), end='')\n",
    "    sn_label = np.load(samples_vad_seg[i])\n",
    "    if('npy' in samples_vad_seg[i].split('/')[-1]):\n",
    "        label = sn_label[0]        # use the left channel label.  this take care of 0 degree problem\n",
    "    else:                                   # npz file\n",
    "        label = sn_label[\"label\"]   \n",
    "    # label : holds 0/1 train that segments the audio sample to signal and noise\n",
    "    \n",
    "    # generate instance tensors with 1sec duration (100 frames), at every 0.1 sec apart (10 hops)\n",
    "    mrcg_L, mrcg_R = mrcg_generation(samples[i])\n",
    "    mrcg_L_stack, _ = generate_instances(mrcg_L, 100, 10, label)\n",
    "    mrcg_R_stack, label_array = generate_instances(mrcg_R, 100, 10, label)\n",
    "    \n",
    "    mrcg_L_tensor.append(mrcg_L_stack)\n",
    "    mrcg_R_tensor.append(mrcg_R_stack)\n",
    "    label_list.append(label_array)"
   ]
  },
  {
   "cell_type": "markdown",
   "metadata": {},
   "source": [
    "Now we have left, right, and label 1sec instances of mrcg represenations grouped in audio samples. \n",
    "    \n",
    "#### Saving and restoring :"
   ]
  },
  {
   "cell_type": "code",
   "execution_count": 8,
   "metadata": {
    "scrolled": false
   },
   "outputs": [],
   "source": [
    "# np.savez('mcrg_representation.npz', mrcg_L_tensor=mrcg_L_tensor, mrcg_R_tensor=mrcg_R_tensor, \n",
    "#         label_list=label_list)\n",
    "\n",
    "mrcg_L_tensor = np.load('mcrg_representation.npz')['mrcg_L_tensor']\n",
    "mrcg_R_tensor = np.load('mcrg_representation.npz')['mrcg_R_tensor']\n",
    "label_list = np.load('mcrg_representation.npz')['label_list']"
   ]
  },
  {
   "cell_type": "code",
   "execution_count": 9,
   "metadata": {},
   "outputs": [
    {
     "name": "stdout",
     "output_type": "stream",
     "text": [
      "50 50 50\n"
     ]
    },
    {
     "data": {
      "text/plain": [
       "((14, 768, 100, 1),\n",
       " (14, 768, 100, 1),\n",
       " [0.0, 1.0, 1.0, 1.0, 1.0, 1.0, 1.0, 1.0, 1.0, 1.0, 1.0, 1.0, 0.0, 0.0])"
      ]
     },
     "execution_count": 9,
     "metadata": {},
     "output_type": "execute_result"
    }
   ],
   "source": [
    "print(len(mrcg_L_tensor), len(mrcg_R_tensor), len(label_list))\n",
    "\n",
    "'''\n",
    "checking what 18'th audio sample's mrcg representation looks like\n",
    "- the audio sample generated 14 instances to each left and right channels\n",
    "- Out of 14 instances, 3 are labeled Noise, and 11 as Signal(Voice)\n",
    "'''\n",
    "sample_index = 17\n",
    "mrcg_L_tensor[sample_index].shape, mrcg_R_tensor[sample_index].shape, label_list[sample_index]"
   ]
  },
  {
   "cell_type": "code",
   "execution_count": 10,
   "metadata": {},
   "outputs": [
    {
     "data": {
      "text/plain": [
       "(50, (14, 768, 100, 2))"
      ]
     },
     "execution_count": 10,
     "metadata": {},
     "output_type": "execute_result"
    }
   ],
   "source": [
    "# Now stack the left and right instaces along the last dimension so that 'no_channels' becomes 2\n",
    "total_instances_tensor = []\n",
    "\n",
    "for i in range(0, 50):\n",
    "    concat_tensor = np.concatenate([mrcg_L_tensor[i], mrcg_R_tensor[i]], axis=-1)\n",
    "    total_instances_tensor.append(concat_tensor)\n",
    "\n",
    "len(total_instances_tensor), total_instances_tensor[sample_index].shape"
   ]
  },
  {
   "cell_type": "markdown",
   "metadata": {},
   "source": [
    "`total_instances_tensor` has 50 elements, where each element holds instances produced from the corresponding audio"
   ]
  },
  {
   "cell_type": "code",
   "execution_count": 11,
   "metadata": {},
   "outputs": [],
   "source": [
    "total_label = []\n",
    "\n",
    "for i in range(0, 50):\n",
    "    array_label = np.array(label_list[i])   # Convert to ndarrays\n",
    "    total_label.append(array_label)"
   ]
  },
  {
   "cell_type": "code",
   "execution_count": 12,
   "metadata": {},
   "outputs": [
    {
     "data": {
      "text/plain": [
       "0.7424703021349098"
      ]
     },
     "execution_count": 12,
     "metadata": {},
     "output_type": "execute_result"
    }
   ],
   "source": [
    "# Test: the ratio of instances with 0 or 1 label.  74% are labeled 1 (voice)\n",
    "ave=[]\n",
    "for arr in total_label:\n",
    "    ave.append(np.mean(arr))\n",
    "\n",
    "np.mean(ave)"
   ]
  },
  {
   "cell_type": "code",
   "execution_count": 13,
   "metadata": {},
   "outputs": [
    {
     "name": "stdout",
     "output_type": "stream",
     "text": [
      "(19, 768, 100, 2) (19,)\n",
      "(15, 768, 100, 2) (15,)\n",
      "(16, 768, 100, 2) (16,)\n",
      "(30, 768, 100, 2) (30,)\n",
      "(6, 768, 100, 2) (6,)\n",
      "(10, 768, 100, 2) (10,)\n",
      "(23, 768, 100, 2) (23,)\n",
      "(14, 768, 100, 2) (14,)\n",
      "(47, 768, 100, 2) (47,)\n",
      "(19, 768, 100, 2) (19,)\n"
     ]
    }
   ],
   "source": [
    "# check\n",
    "for i in range(0, 50, 5):\n",
    "    print(total_instances_tensor[i].shape, total_label[i].shape)"
   ]
  },
  {
   "cell_type": "markdown",
   "metadata": {},
   "source": [
    "각각의 음성 샘플에 대해 알맞게 데이터가 형성"
   ]
  },
  {
   "cell_type": "code",
   "execution_count": 14,
   "metadata": {},
   "outputs": [
    {
     "data": {
      "text/plain": [
       "1023"
      ]
     },
     "execution_count": 14,
     "metadata": {},
     "output_type": "execute_result"
    }
   ],
   "source": [
    "# the total number of instances generated:\n",
    "val = 0\n",
    "for i in range(0, 50):\n",
    "    val = val + total_instances_tensor[i].shape[0]\n",
    "    \n",
    "val"
   ]
  },
  {
   "cell_type": "markdown",
   "metadata": {},
   "source": [
    "#### noise와 voice 방향에 따라 labeling\n",
    "- noise : 0                 \n",
    "- 0도 : 1                \n",
    "- 60도 : 2                \n",
    "- 120도 : 3             \n",
    "- 180도 : 4                  "
   ]
  },
  {
   "cell_type": "code",
   "execution_count": 15,
   "metadata": {},
   "outputs": [
    {
     "data": {
      "text/plain": [
       "[array([1., 1., 1., 1., 1., 1., 1., 1., 1., 1., 1., 1., 1., 1., 1., 1., 1.,\n",
       "        1., 1.]),\n",
       " array([1., 1., 1., 1., 1., 1., 1., 1., 1., 1., 1., 1., 1., 1., 0.]),\n",
       " array([1., 1., 1., 1., 1., 1., 1., 1., 0., 0., 0., 0., 0., 0., 0., 0.]),\n",
       " array([0., 0., 0., 0., 0., 0., 0., 0., 0., 0., 0., 2., 2., 2., 2., 2., 2.,\n",
       "        2., 2., 2., 2., 2., 2., 2., 2., 2., 2., 2., 0., 0.]),\n",
       " array([2., 2., 2., 2., 2., 2.]),\n",
       " array([3., 3., 3., 3., 3., 3., 3., 3., 3., 0.], dtype=float32),\n",
       " array([3., 3., 3., 3., 3., 3., 3., 3., 3., 3., 3., 3., 3., 3., 3., 3., 3.,\n",
       "        3., 3., 3., 3., 3., 3.], dtype=float32),\n",
       " array([3., 3., 3., 3., 3., 3., 3., 3., 3., 3., 3., 3., 3., 3.],\n",
       "       dtype=float32),\n",
       " array([0., 0., 0., 0., 0., 0., 0., 0., 0., 0., 0., 0., 0., 0., 0., 0., 4.,\n",
       "        4., 4., 4., 4., 4., 4., 4., 4., 4., 4., 4., 4., 4., 4., 4., 4., 4.,\n",
       "        4., 4., 4., 4., 4., 4., 4., 4., 4., 4., 4., 0., 0.]),\n",
       " array([4., 4., 4., 4., 4., 4., 4., 4., 4., 4., 4., 4., 4., 4., 4., 4., 4.,\n",
       "        4., 0.])]"
      ]
     },
     "execution_count": 15,
     "metadata": {},
     "output_type": "execute_result"
    }
   ],
   "source": [
    "for i in range(12,25):\n",
    "    for j in range(0, len(total_label[i])):\n",
    "        if(total_label[i][j] == 1):\n",
    "            total_label[i][j] = 2       # 60 degree to label 2\n",
    "            \n",
    "for i in range(25,38):\n",
    "    for j in range(0, len(total_label[i])):\n",
    "        if(total_label[i][j] == 1):\n",
    "            total_label[i][j] = 3   # 120 degree to label 3\n",
    "            \n",
    "for i in range(38,50):\n",
    "    for j in range(0, len(total_label[i])):\n",
    "        if(total_label[i][j] == 1):\n",
    "            total_label[i][j] = 4\n",
    "            \n",
    "total_label[::5]   # Checking ..."
   ]
  },
  {
   "cell_type": "code",
   "execution_count": 16,
   "metadata": {},
   "outputs": [
    {
     "name": "stdout",
     "output_type": "stream",
     "text": [
      "(19, 768, 100, 2) (19,)\n",
      "(16, 768, 100, 2) (16,)\n",
      "(6, 768, 100, 2) (6,)\n",
      "(23, 768, 100, 2) (23,)\n",
      "(47, 768, 100, 2) (47,)\n"
     ]
    }
   ],
   "source": [
    "# Check again ...\n",
    "for i in range(0, 50, 10):\n",
    "    print(total_instances_tensor[i].shape, total_label[i].shape)"
   ]
  },
  {
   "cell_type": "markdown",
   "metadata": {},
   "source": [
    "We have 1023 instances. And we have labeled them into 5 classes.  Let's see how those labels are distributed."
   ]
  },
  {
   "cell_type": "code",
   "execution_count": 17,
   "metadata": {},
   "outputs": [
    {
     "data": {
      "text/plain": [
       "0.0    276\n",
       "1.0    155\n",
       "2.0    165\n",
       "3.0    234\n",
       "4.0    193\n",
       "dtype: int64"
      ]
     },
     "execution_count": 17,
     "metadata": {},
     "output_type": "execute_result"
    }
   ],
   "source": [
    "instances_labels = np.array([])\n",
    "for audio_clip in total_label:\n",
    "    instances_labels = np.hstack([instances_labels, audio_clip])\n",
    "   \n",
    "pd.Series(instances_labels).value_counts().sort_index()   "
   ]
  },
  {
   "cell_type": "markdown",
   "metadata": {},
   "source": [
    "- Class-0 Noise instance has the greatest proportion\n",
    "\n",
    "### Now we have `total_instances_tensor & total_label`\n",
    "- `total_instances_tensor` : List. 50 elements.  Each element has instances of the audio \n",
    "- `total_label` ; List. 50 elements \n",
    "\n",
    "## Construct `train and validation set` split.\n",
    "- Out of instances generated from the 50 audio samples, we will take instances from 40 audio files for training set, and the remaining to the validation set.  Try to mix them evenly.\n",
    "- Note that `total_label` indices has : 0~11(Class-1), 12~24(Class-2), 23~37(Class-3), 38~49(Class-4) and Class-0 is assigned to the noise  "
   ]
  },
  {
   "cell_type": "code",
   "execution_count": 18,
   "metadata": {},
   "outputs": [
    {
     "data": {
      "text/plain": [
       "(array([24, 23, 35, 30, 26, 20, 18, 43, 37, 48, 13, 36, 14,  1, 12,  6, 49,\n",
       "         0, 45, 27,  8,  3, 28, 42, 25, 17, 38, 39, 21,  4, 32, 11,  9,  7,\n",
       "        16, 15, 41, 44, 33,  5, 47, 22,  2, 31, 10, 19, 40, 34, 46, 29]),\n",
       " array([47, 22,  2, 31, 10, 19, 40, 34, 46, 29]))"
      ]
     },
     "execution_count": 18,
     "metadata": {},
     "output_type": "execute_result"
    }
   ],
   "source": [
    "# Convert to ndarrays \n",
    "total_instances_tensors = np.array(total_instances_tensor)\n",
    "total_label_tensors = np.array(total_label)\n",
    "\n",
    "# randomly choose indices to be split to training and validation set\n",
    "np.random.seed(19)\n",
    "idx = np.random.permutation(50)\n",
    "idx, idx[-10:]"
   ]
  },
  {
   "cell_type": "markdown",
   "metadata": {},
   "source": [
    "validation set                    \n",
    "- 0도 - 2개               \n",
    "- 60도 - 2개                  \n",
    "- 120도 - 3개               \n",
    "- 180도 - 3개              "
   ]
  },
  {
   "cell_type": "code",
   "execution_count": 19,
   "metadata": {},
   "outputs": [
    {
     "name": "stdout",
     "output_type": "stream",
     "text": [
      "(18, 768, 100, 2) (18,)\n",
      "(24, 768, 100, 2) (24,)\n",
      "(9, 768, 100, 2) (9,)\n",
      "(9, 768, 100, 2) (9,)\n",
      "(15, 768, 100, 2) (15,)\n"
     ]
    },
    {
     "name": "stderr",
     "output_type": "stream",
     "text": [
      "C:\\Users\\user\\Anaconda3\\envs\\tensorflow\\lib\\site-packages\\ipykernel_launcher.py:1: FutureWarning: Using a non-tuple sequence for multidimensional indexing is deprecated; use `arr[tuple(seq)]` instead of `arr[seq]`. In the future this will be interpreted as an array index, `arr[np.array(seq)]`, which will result either in an error or a different result.\n",
      "  \"\"\"Entry point for launching an IPython kernel.\n",
      "C:\\Users\\user\\Anaconda3\\envs\\tensorflow\\lib\\site-packages\\ipykernel_launcher.py:2: FutureWarning: Using a non-tuple sequence for multidimensional indexing is deprecated; use `arr[tuple(seq)]` instead of `arr[seq]`. In the future this will be interpreted as an array index, `arr[np.array(seq)]`, which will result either in an error or a different result.\n",
      "  \n"
     ]
    }
   ],
   "source": [
    "X = total_instances_tensors[[idx]]   # Shuffle the data using fancy indexing\n",
    "y = total_label_tensors[[idx]]\n",
    "\n",
    "# Test \n",
    "for i in range(0, 50, 10):\n",
    "    print(X[i].shape, y[i].shape)"
   ]
  },
  {
   "cell_type": "code",
   "execution_count": 20,
   "metadata": {
    "scrolled": true
   },
   "outputs": [
    {
     "name": "stdout",
     "output_type": "stream",
     "text": [
      "(781, 768, 100, 2) (781,)\n",
      "(242, 768, 100, 2) (242,)\n"
     ]
    }
   ],
   "source": [
    "# Split to Train and Val set \n",
    "X_train = np.concatenate(X[:40], axis=0)\n",
    "y_train = np.concatenate(y[:40], axis=0)\n",
    "\n",
    "X_val = np.concatenate(X[40: ], axis=0)\n",
    "y_val = np.concatenate(y[40: ], axis=0)\n",
    "\n",
    "print(X_train.shape, y_train.shape)\n",
    "print(X_val.shape, y_val.shape)\n",
    "\n",
    "# Change numeric to categoricals\n",
    "y_train = keras.utils.to_categorical(y_train, 5)\n",
    "y_val = keras.utils.to_categorical(y_val, 5)"
   ]
  },
  {
   "cell_type": "markdown",
   "metadata": {},
   "source": [
    "## 모델1. 2D CNN + Bidirectional GRU"
   ]
  },
  {
   "cell_type": "code",
   "execution_count": 21,
   "metadata": {},
   "outputs": [],
   "source": [
    "from tensorflow.keras.layers import Bidirectional\n",
    "from tensorflow.keras.layers import Conv2D, MaxPooling2D, Input, Flatten, Dropout\n",
    "from tensorflow.keras import layers, models"
   ]
  },
  {
   "cell_type": "code",
   "execution_count": 22,
   "metadata": {},
   "outputs": [
    {
     "name": "stdout",
     "output_type": "stream",
     "text": [
      "_________________________________________________________________\n",
      "Layer (type)                 Output Shape              Param #   \n",
      "=================================================================\n",
      "input_1 (InputLayer)         (None, 768, 100, 2)       0         \n",
      "_________________________________________________________________\n",
      "conv2d (Conv2D)              (None, 768, 100, 16)      304       \n",
      "_________________________________________________________________\n",
      "max_pooling2d (MaxPooling2D) (None, 256, 50, 16)       0         \n",
      "_________________________________________________________________\n",
      "conv2d_1 (Conv2D)            (None, 256, 50, 32)       4640      \n",
      "_________________________________________________________________\n",
      "max_pooling2d_1 (MaxPooling2 (None, 85, 25, 32)        0         \n",
      "_________________________________________________________________\n",
      "conv2d_2 (Conv2D)            (None, 85, 25, 64)        18496     \n",
      "_________________________________________________________________\n",
      "max_pooling2d_2 (MaxPooling2 (None, 28, 12, 64)        0         \n",
      "_________________________________________________________________\n",
      "conv2d_3 (Conv2D)            (None, 28, 12, 128)       73856     \n",
      "_________________________________________________________________\n",
      "max_pooling2d_3 (MaxPooling2 (None, 9, 6, 128)         0         \n",
      "_________________________________________________________________\n",
      "conv2d_4 (Conv2D)            (None, 1, 6, 512)         590336    \n",
      "_________________________________________________________________\n",
      "reshape (Reshape)            (None, 6, 512)            0         \n",
      "_________________________________________________________________\n",
      "bidirectional (Bidirectional (None, 512)               1181184   \n",
      "_________________________________________________________________\n",
      "dense (Dense)                (None, 32)                16416     \n",
      "_________________________________________________________________\n",
      "dropout (Dropout)            (None, 32)                0         \n",
      "_________________________________________________________________\n",
      "dense_1 (Dense)              (None, 5)                 165       \n",
      "=================================================================\n",
      "Total params: 1,885,397\n",
      "Trainable params: 1,885,397\n",
      "Non-trainable params: 0\n",
      "_________________________________________________________________\n"
     ]
    }
   ],
   "source": [
    "if 'model' in locals():\n",
    "    del model\n",
    "\n",
    "input_spectrogram = Input(shape=(X_train.shape[1], X_train.shape[2], X_train.shape[3])) # 768x100x2\n",
    "\n",
    "conv_1 = Conv2D(16, (3, 3), activation='relu', padding='same')(input_spectrogram)\n",
    "conv_1_pool = MaxPooling2D((3, 2))(conv_1)\n",
    "\n",
    "conv_2 = Conv2D(32, (3, 3), activation='relu', padding='same')(conv_1_pool)\n",
    "conv_2_pool = MaxPooling2D((3, 2))(conv_2)\n",
    "\n",
    "conv_3 = Conv2D(64, (3, 3), activation='relu', padding='same')(conv_2_pool)\n",
    "conv_3_pool = MaxPooling2D((3, 2))(conv_3)\n",
    "\n",
    "conv_4 = Conv2D(128, (3, 3), activation='relu', padding='same')(conv_3_pool)\n",
    "conv_4_pool = MaxPooling2D((3, 2))(conv_4)\n",
    "\n",
    "shape_conv_4_pool = conv_4_pool.get_shape().as_list()    # (None, height, width, channel)\n",
    "conv_5 = Conv2D(512, (shape_conv_4_pool[1], 1), padding='valid', activation='relu')(conv_4_pool)\n",
    "shape_conv_5 = conv_5.get_shape().as_list()\n",
    "\n",
    "reshaped = layers.Reshape((shape_conv_5[2], shape_conv_5[3]))(conv_5)   # reshape to (timesteps, features) explicitly \n",
    "bgru = Bidirectional(layers.GRU(units=256))(reshaped)\n",
    "\n",
    "fc1 = layers.Dense(32, activation='relu')(bgru)\n",
    "fc1_drop = Dropout(0.5)(fc1)\n",
    "\n",
    "dense_out = layers.Dense(5, activation='softmax')(fc1_drop)\n",
    "\n",
    "model = models.Model(inputs=input_spectrogram, outputs=dense_out)\n",
    "model.summary() "
   ]
  },
  {
   "cell_type": "code",
   "execution_count": 23,
   "metadata": {},
   "outputs": [
    {
     "data": {
      "image/png": "[encoded data removed]",
      "text/plain": [
       "<IPython.core.display.Image object>"
      ]
     },
     "execution_count": 23,
     "metadata": {},
     "output_type": "execute_result"
    }
   ],
   "source": [
    "show_model_graph(model)"
   ]
  },
  {
   "cell_type": "code",
   "execution_count": 24,
   "metadata": {
    "scrolled": false
   },
   "outputs": [
    {
     "name": "stdout",
     "output_type": "stream",
     "text": [
      "Train on 781 samples, validate on 242 samples\n",
      "Epoch 1/150\n",
      "781/781 [==============================] - 8s 10ms/step - loss: 2.4442 - acc: 0.2458 - val_loss: 1.6270 - val_acc: 0.2314\n",
      "Epoch 2/150\n",
      "781/781 [==============================] - 2s 3ms/step - loss: 1.6237 - acc: 0.1729 - val_loss: 1.6109 - val_acc: 0.2314\n",
      "Epoch 3/150\n",
      "781/781 [==============================] - 2s 3ms/step - loss: 1.6110 - acc: 0.1754 - val_loss: 1.6097 - val_acc: 0.1694\n",
      "Epoch 4/150\n",
      "781/781 [==============================] - 2s 3ms/step - loss: 1.6120 - acc: 0.2330 - val_loss: 1.6103 - val_acc: 0.2397\n",
      "Epoch 5/150\n",
      "781/781 [==============================] - 2s 3ms/step - loss: 1.6064 - acc: 0.2369 - val_loss: 1.6114 - val_acc: 0.2397\n",
      "Epoch 6/150\n",
      "781/781 [==============================] - 2s 3ms/step - loss: 1.6068 - acc: 0.2791 - val_loss: 1.6131 - val_acc: 0.2397\n",
      "Epoch 7/150\n",
      "781/781 [==============================] - 2s 3ms/step - loss: 1.6084 - acc: 0.2791 - val_loss: 1.6105 - val_acc: 0.2397\n",
      "Epoch 8/150\n",
      "781/781 [==============================] - 2s 3ms/step - loss: 1.6042 - acc: 0.2791 - val_loss: 1.6101 - val_acc: 0.2397\n",
      "Epoch 9/150\n",
      "781/781 [==============================] - 2s 3ms/step - loss: 1.6015 - acc: 0.2702 - val_loss: 1.6111 - val_acc: 0.2397\n",
      "Epoch 10/150\n",
      "781/781 [==============================] - 2s 3ms/step - loss: 1.6016 - acc: 0.2535 - val_loss: 1.6152 - val_acc: 0.2397\n",
      "Epoch 11/150\n",
      "781/781 [==============================] - 2s 3ms/step - loss: 1.6026 - acc: 0.2356 - val_loss: 1.6092 - val_acc: 0.2397\n",
      "Epoch 12/150\n",
      "781/781 [==============================] - 2s 3ms/step - loss: 1.5917 - acc: 0.2612 - val_loss: 1.6031 - val_acc: 0.2397\n",
      "Epoch 13/150\n",
      "781/781 [==============================] - 2s 3ms/step - loss: 1.5890 - acc: 0.2574 - val_loss: 1.6034 - val_acc: 0.2521\n",
      "Epoch 14/150\n",
      "781/781 [==============================] - 2s 3ms/step - loss: 1.5787 - acc: 0.2586 - val_loss: 1.6001 - val_acc: 0.2397\n",
      "Epoch 15/150\n",
      "781/781 [==============================] - 2s 3ms/step - loss: 1.5680 - acc: 0.2548 - val_loss: 1.5713 - val_acc: 0.2521\n",
      "Epoch 16/150\n",
      "781/781 [==============================] - 2s 3ms/step - loss: 1.5466 - acc: 0.3175 - val_loss: 1.5434 - val_acc: 0.4339\n",
      "Epoch 17/150\n",
      "781/781 [==============================] - 2s 3ms/step - loss: 1.5479 - acc: 0.3047 - val_loss: 1.4918 - val_acc: 0.3471\n",
      "Epoch 18/150\n",
      "781/781 [==============================] - 2s 3ms/step - loss: 1.4647 - acc: 0.3150 - val_loss: 1.9200 - val_acc: 0.3140\n",
      "Epoch 19/150\n",
      "781/781 [==============================] - 2s 3ms/step - loss: 1.6224 - acc: 0.3060 - val_loss: 1.4953 - val_acc: 0.2397\n",
      "Epoch 20/150\n",
      "781/781 [==============================] - 2s 3ms/step - loss: 1.5231 - acc: 0.2766 - val_loss: 1.5000 - val_acc: 0.3554\n",
      "Epoch 21/150\n",
      "781/781 [==============================] - 2s 3ms/step - loss: 1.5245 - acc: 0.3047 - val_loss: 1.5451 - val_acc: 0.1198\n",
      "Epoch 22/150\n",
      "781/781 [==============================] - 2s 3ms/step - loss: 1.4924 - acc: 0.2958 - val_loss: 1.4618 - val_acc: 0.3471\n",
      "Epoch 23/150\n",
      "781/781 [==============================] - 2s 3ms/step - loss: 1.3629 - acc: 0.3777 - val_loss: 1.3649 - val_acc: 0.3926\n",
      "Epoch 24/150\n",
      "781/781 [==============================] - 2s 3ms/step - loss: 1.3639 - acc: 0.3611 - val_loss: 1.2844 - val_acc: 0.3430\n",
      "Epoch 25/150\n",
      "781/781 [==============================] - 2s 3ms/step - loss: 1.3012 - acc: 0.3572 - val_loss: 1.3402 - val_acc: 0.3554\n",
      "Epoch 26/150\n",
      "781/781 [==============================] - 2s 3ms/step - loss: 1.3407 - acc: 0.3867 - val_loss: 1.3142 - val_acc: 0.4174\n",
      "Epoch 27/150\n",
      "781/781 [==============================] - 2s 3ms/step - loss: 1.2288 - acc: 0.4251 - val_loss: 1.1002 - val_acc: 0.5248\n",
      "Epoch 28/150\n",
      "781/781 [==============================] - 2s 3ms/step - loss: 1.1181 - acc: 0.4930 - val_loss: 1.0663 - val_acc: 0.4959\n",
      "Epoch 29/150\n",
      "781/781 [==============================] - 2s 3ms/step - loss: 1.0924 - acc: 0.4827 - val_loss: 1.0404 - val_acc: 0.5455\n",
      "Epoch 30/150\n",
      "781/781 [==============================] - 2s 3ms/step - loss: 0.9984 - acc: 0.5480 - val_loss: 0.9081 - val_acc: 0.5372\n",
      "Epoch 31/150\n",
      "781/781 [==============================] - 2s 3ms/step - loss: 0.8987 - acc: 0.5659 - val_loss: 0.7802 - val_acc: 0.6983\n",
      "Epoch 32/150\n",
      "781/781 [==============================] - 2s 3ms/step - loss: 0.9032 - acc: 0.5762 - val_loss: 0.8206 - val_acc: 0.6612\n",
      "Epoch 33/150\n",
      "781/781 [==============================] - 2s 3ms/step - loss: 0.8695 - acc: 0.5941 - val_loss: 0.7827 - val_acc: 0.6860\n",
      "Epoch 34/150\n",
      "781/781 [==============================] - 2s 3ms/step - loss: 0.8055 - acc: 0.6069 - val_loss: 0.7686 - val_acc: 0.7107\n",
      "Epoch 35/150\n",
      "781/781 [==============================] - 2s 3ms/step - loss: 0.7325 - acc: 0.6633 - val_loss: 0.6482 - val_acc: 0.7727\n",
      "Epoch 36/150\n",
      "781/781 [==============================] - 2s 3ms/step - loss: 0.7160 - acc: 0.6556 - val_loss: 0.7473 - val_acc: 0.7066\n",
      "Epoch 37/150\n",
      "781/781 [==============================] - 2s 3ms/step - loss: 0.7280 - acc: 0.6709 - val_loss: 0.9142 - val_acc: 0.6653\n",
      "Epoch 38/150\n",
      "781/781 [==============================] - 2s 3ms/step - loss: 0.6226 - acc: 0.7567 - val_loss: 0.7516 - val_acc: 0.7190\n",
      "Epoch 39/150\n",
      "781/781 [==============================] - 2s 3ms/step - loss: 0.5680 - acc: 0.7554 - val_loss: 0.5825 - val_acc: 0.7893\n",
      "Epoch 40/150\n",
      "781/781 [==============================] - 2s 3ms/step - loss: 0.4797 - acc: 0.7862 - val_loss: 0.6329 - val_acc: 0.7273\n",
      "Epoch 41/150\n",
      "781/781 [==============================] - 2s 3ms/step - loss: 0.4810 - acc: 0.7926 - val_loss: 0.7724 - val_acc: 0.7107\n",
      "Epoch 42/150\n",
      "781/781 [==============================] - 2s 3ms/step - loss: 0.4866 - acc: 0.7887 - val_loss: 0.7193 - val_acc: 0.7810\n",
      "Epoch 43/150\n",
      "781/781 [==============================] - 2s 3ms/step - loss: 0.4889 - acc: 0.7990 - val_loss: 0.8055 - val_acc: 0.7727\n",
      "Epoch 44/150\n",
      "781/781 [==============================] - 2s 3ms/step - loss: 0.4368 - acc: 0.8105 - val_loss: 0.6303 - val_acc: 0.7686\n",
      "Epoch 45/150\n",
      "781/781 [==============================] - 2s 3ms/step - loss: 0.4248 - acc: 0.8003 - val_loss: 0.9705 - val_acc: 0.7521\n",
      "Epoch 46/150\n",
      "781/781 [==============================] - 2s 3ms/step - loss: 0.4243 - acc: 0.8195 - val_loss: 0.5509 - val_acc: 0.8182\n",
      "Epoch 47/150\n",
      "781/781 [==============================] - 2s 3ms/step - loss: 0.5038 - acc: 0.7746 - val_loss: 1.4727 - val_acc: 0.6983\n",
      "Epoch 48/150\n",
      "781/781 [==============================] - 2s 3ms/step - loss: 0.7491 - acc: 0.7375 - val_loss: 0.5059 - val_acc: 0.8471\n",
      "Epoch 49/150\n",
      "781/781 [==============================] - 2s 3ms/step - loss: 0.4957 - acc: 0.7836 - val_loss: 0.7874 - val_acc: 0.8017\n",
      "Epoch 50/150\n",
      "781/781 [==============================] - 2s 3ms/step - loss: 0.7039 - acc: 0.7478 - val_loss: 0.7799 - val_acc: 0.7314\n",
      "Epoch 51/150\n",
      "781/781 [==============================] - 2s 3ms/step - loss: 0.5709 - acc: 0.7465 - val_loss: 0.5716 - val_acc: 0.7934\n",
      "Epoch 52/150\n",
      "781/781 [==============================] - 2s 3ms/step - loss: 0.4070 - acc: 0.8092 - val_loss: 0.7531 - val_acc: 0.7934\n",
      "Epoch 53/150\n",
      "781/781 [==============================] - 2s 3ms/step - loss: 0.3386 - acc: 0.8681 - val_loss: 0.5146 - val_acc: 0.8306\n",
      "Epoch 54/150\n",
      "781/781 [==============================] - 2s 3ms/step - loss: 0.3131 - acc: 0.8745 - val_loss: 0.7345 - val_acc: 0.8058\n",
      "Epoch 55/150\n",
      "781/781 [==============================] - 2s 3ms/step - loss: 0.2301 - acc: 0.9040 - val_loss: 0.7428 - val_acc: 0.8512\n",
      "Epoch 56/150\n",
      "781/781 [==============================] - 2s 3ms/step - loss: 0.2097 - acc: 0.9104 - val_loss: 1.0019 - val_acc: 0.7851\n",
      "Epoch 57/150\n",
      "781/781 [==============================] - 2s 3ms/step - loss: 0.2198 - acc: 0.8976 - val_loss: 0.8252 - val_acc: 0.8140\n",
      "Epoch 58/150\n",
      "781/781 [==============================] - 2s 3ms/step - loss: 0.2273 - acc: 0.9065 - val_loss: 0.9796 - val_acc: 0.8017\n",
      "Epoch 59/150\n",
      "781/781 [==============================] - 2s 3ms/step - loss: 0.1862 - acc: 0.9091 - val_loss: 0.7707 - val_acc: 0.8430\n",
      "Epoch 60/150\n",
      "781/781 [==============================] - 2s 3ms/step - loss: 0.1664 - acc: 0.9168 - val_loss: 1.1966 - val_acc: 0.7851\n",
      "Epoch 61/150\n",
      "781/781 [==============================] - 2s 3ms/step - loss: 0.1698 - acc: 0.9206 - val_loss: 1.0109 - val_acc: 0.8223\n"
     ]
    },
    {
     "name": "stdout",
     "output_type": "stream",
     "text": [
      "Epoch 62/150\n",
      "781/781 [==============================] - 2s 3ms/step - loss: 0.1274 - acc: 0.9437 - val_loss: 1.3082 - val_acc: 0.8017\n",
      "Epoch 63/150\n",
      "781/781 [==============================] - 2s 3ms/step - loss: 0.1455 - acc: 0.9309 - val_loss: 1.3312 - val_acc: 0.8017\n",
      "Epoch 64/150\n",
      "781/781 [==============================] - 2s 3ms/step - loss: 0.1125 - acc: 0.9488 - val_loss: 1.3211 - val_acc: 0.8058\n",
      "Epoch 65/150\n",
      "781/781 [==============================] - 2s 3ms/step - loss: 0.1213 - acc: 0.9462 - val_loss: 1.5457 - val_acc: 0.7975\n",
      "Epoch 66/150\n",
      "781/781 [==============================] - 2s 3ms/step - loss: 0.1022 - acc: 0.9603 - val_loss: 1.1388 - val_acc: 0.8223\n",
      "Epoch 67/150\n",
      "781/781 [==============================] - 2s 3ms/step - loss: 0.1026 - acc: 0.9552 - val_loss: 1.7957 - val_acc: 0.7851\n",
      "Epoch 68/150\n",
      "781/781 [==============================] - 2s 3ms/step - loss: 0.0799 - acc: 0.9667 - val_loss: 1.7068 - val_acc: 0.7893\n",
      "Epoch 69/150\n",
      "781/781 [==============================] - 2s 3ms/step - loss: 0.0889 - acc: 0.9590 - val_loss: 1.3465 - val_acc: 0.8182\n",
      "Epoch 70/150\n",
      "781/781 [==============================] - 2s 3ms/step - loss: 0.0969 - acc: 0.9513 - val_loss: 1.6805 - val_acc: 0.8099\n",
      "Epoch 71/150\n",
      "781/781 [==============================] - 2s 3ms/step - loss: 0.0772 - acc: 0.9577 - val_loss: 1.7066 - val_acc: 0.8017\n",
      "Epoch 72/150\n",
      "781/781 [==============================] - 2s 3ms/step - loss: 0.0945 - acc: 0.9488 - val_loss: 1.6915 - val_acc: 0.8017\n",
      "Epoch 73/150\n",
      "781/781 [==============================] - 2s 3ms/step - loss: 0.0854 - acc: 0.9603 - val_loss: 1.7423 - val_acc: 0.8099\n",
      "Epoch 74/150\n",
      "781/781 [==============================] - 2s 3ms/step - loss: 0.0903 - acc: 0.9552 - val_loss: 1.9702 - val_acc: 0.7893\n",
      "Epoch 75/150\n",
      "781/781 [==============================] - 2s 3ms/step - loss: 0.0716 - acc: 0.9654 - val_loss: 2.0655 - val_acc: 0.7769\n",
      "Epoch 76/150\n",
      "781/781 [==============================] - 2s 3ms/step - loss: 0.0732 - acc: 0.9654 - val_loss: 1.6102 - val_acc: 0.8099\n",
      "Epoch 77/150\n",
      "781/781 [==============================] - 2s 3ms/step - loss: 0.0784 - acc: 0.9680 - val_loss: 1.8804 - val_acc: 0.8058\n",
      "Epoch 78/150\n",
      "781/781 [==============================] - 2s 3ms/step - loss: 0.0679 - acc: 0.9757 - val_loss: 2.1746 - val_acc: 0.7769\n",
      "Epoch 79/150\n",
      "781/781 [==============================] - 2s 3ms/step - loss: 0.0811 - acc: 0.9782 - val_loss: 2.0473 - val_acc: 0.7934\n",
      "Epoch 80/150\n",
      "781/781 [==============================] - 2s 3ms/step - loss: 0.0637 - acc: 0.9770 - val_loss: 1.9809 - val_acc: 0.8017\n",
      "Epoch 81/150\n",
      "781/781 [==============================] - 2s 3ms/step - loss: 0.0690 - acc: 0.9782 - val_loss: 1.9330 - val_acc: 0.8099\n",
      "Epoch 82/150\n",
      "781/781 [==============================] - 2s 3ms/step - loss: 0.0674 - acc: 0.9744 - val_loss: 1.9030 - val_acc: 0.8099\n",
      "Epoch 83/150\n",
      "781/781 [==============================] - 2s 3ms/step - loss: 0.0907 - acc: 0.9629 - val_loss: 1.8849 - val_acc: 0.8099\n",
      "Epoch 84/150\n",
      "781/781 [==============================] - 2s 3ms/step - loss: 0.0771 - acc: 0.9744 - val_loss: 1.8964 - val_acc: 0.8099\n",
      "Epoch 85/150\n",
      "781/781 [==============================] - 2s 3ms/step - loss: 0.0565 - acc: 0.9821 - val_loss: 1.9087 - val_acc: 0.8099\n",
      "Epoch 86/150\n",
      "781/781 [==============================] - 2s 3ms/step - loss: 0.0685 - acc: 0.9731 - val_loss: 1.9304 - val_acc: 0.8099\n",
      "Epoch 87/150\n",
      "781/781 [==============================] - 2s 3ms/step - loss: 0.0841 - acc: 0.9680 - val_loss: 1.9565 - val_acc: 0.8099\n",
      "Epoch 88/150\n",
      "781/781 [==============================] - 2s 3ms/step - loss: 0.0854 - acc: 0.9680 - val_loss: 1.9880 - val_acc: 0.8058\n",
      "Epoch 89/150\n",
      "781/781 [==============================] - 2s 3ms/step - loss: 0.0803 - acc: 0.9718 - val_loss: 2.0420 - val_acc: 0.7975\n",
      "Epoch 90/150\n",
      "781/781 [==============================] - 2s 3ms/step - loss: 0.0657 - acc: 0.9795 - val_loss: 2.0515 - val_acc: 0.7975\n",
      "Epoch 91/150\n",
      "781/781 [==============================] - 2s 3ms/step - loss: 0.0631 - acc: 0.9757 - val_loss: 2.0553 - val_acc: 0.7975\n",
      "Epoch 92/150\n",
      "781/781 [==============================] - 2s 3ms/step - loss: 0.0708 - acc: 0.9744 - val_loss: 2.0577 - val_acc: 0.7975\n",
      "Epoch 93/150\n",
      "781/781 [==============================] - 2s 3ms/step - loss: 0.0627 - acc: 0.9795 - val_loss: 2.0660 - val_acc: 0.7975\n",
      "Epoch 94/150\n",
      "781/781 [==============================] - 2s 3ms/step - loss: 0.0793 - acc: 0.9770 - val_loss: 2.0716 - val_acc: 0.8017\n",
      "Epoch 95/150\n",
      "781/781 [==============================] - 2s 3ms/step - loss: 0.0475 - acc: 0.9859 - val_loss: 2.0762 - val_acc: 0.8017\n",
      "Epoch 96/150\n",
      "781/781 [==============================] - 2s 3ms/step - loss: 0.0568 - acc: 0.9859 - val_loss: 2.1050 - val_acc: 0.7893\n",
      "Epoch 97/150\n",
      "781/781 [==============================] - 2s 3ms/step - loss: 0.0697 - acc: 0.9706 - val_loss: 2.1053 - val_acc: 0.7851\n",
      "Epoch 98/150\n",
      "781/781 [==============================] - 2s 3ms/step - loss: 0.0733 - acc: 0.9641 - val_loss: 2.0715 - val_acc: 0.7975\n",
      "Epoch 99/150\n",
      "781/781 [==============================] - 2s 3ms/step - loss: 0.0732 - acc: 0.9706 - val_loss: 2.0455 - val_acc: 0.8017\n",
      "Epoch 100/150\n",
      "781/781 [==============================] - 2s 3ms/step - loss: 0.0623 - acc: 0.9757 - val_loss: 2.0545 - val_acc: 0.7975\n",
      "Epoch 101/150\n",
      "781/781 [==============================] - 2s 3ms/step - loss: 0.0673 - acc: 0.9834 - val_loss: 2.0114 - val_acc: 0.8099\n",
      "Epoch 102/150\n",
      "781/781 [==============================] - 2s 3ms/step - loss: 0.0597 - acc: 0.9757 - val_loss: 2.0102 - val_acc: 0.8058\n",
      "Epoch 103/150\n",
      "781/781 [==============================] - 2s 3ms/step - loss: 0.0790 - acc: 0.9693 - val_loss: 2.0415 - val_acc: 0.8017\n",
      "Epoch 104/150\n",
      "781/781 [==============================] - 2s 3ms/step - loss: 0.0695 - acc: 0.9770 - val_loss: 2.0564 - val_acc: 0.7975\n",
      "Epoch 105/150\n",
      "781/781 [==============================] - 2s 3ms/step - loss: 0.0666 - acc: 0.9808 - val_loss: 2.0625 - val_acc: 0.7975\n",
      "Epoch 106/150\n",
      "781/781 [==============================] - 2s 3ms/step - loss: 0.0598 - acc: 0.9821 - val_loss: 2.0777 - val_acc: 0.7975\n",
      "Epoch 107/150\n",
      "781/781 [==============================] - 2s 3ms/step - loss: 0.0518 - acc: 0.9795 - val_loss: 2.1275 - val_acc: 0.7934\n",
      "Epoch 108/150\n",
      "781/781 [==============================] - 2s 3ms/step - loss: 0.0776 - acc: 0.9718 - val_loss: 2.1318 - val_acc: 0.7934\n",
      "Epoch 109/150\n",
      "781/781 [==============================] - 2s 3ms/step - loss: 0.0608 - acc: 0.9808 - val_loss: 2.1294 - val_acc: 0.7934\n",
      "Epoch 110/150\n",
      "781/781 [==============================] - 2s 3ms/step - loss: 0.0643 - acc: 0.9834 - val_loss: 2.1291 - val_acc: 0.7934\n",
      "Epoch 111/150\n",
      "781/781 [==============================] - 2s 3ms/step - loss: 0.0536 - acc: 0.9834 - val_loss: 2.1291 - val_acc: 0.7934\n",
      "Epoch 112/150\n",
      "781/781 [==============================] - 2s 3ms/step - loss: 0.0707 - acc: 0.9782 - val_loss: 2.1274 - val_acc: 0.7934\n",
      "Epoch 113/150\n",
      "781/781 [==============================] - 2s 3ms/step - loss: 0.0684 - acc: 0.9795 - val_loss: 2.1227 - val_acc: 0.7975\n",
      "Epoch 114/150\n",
      "781/781 [==============================] - 2s 3ms/step - loss: 0.0527 - acc: 0.9846 - val_loss: 2.1189 - val_acc: 0.7975\n",
      "Epoch 115/150\n",
      "781/781 [==============================] - 2s 3ms/step - loss: 0.0829 - acc: 0.9641 - val_loss: 2.1209 - val_acc: 0.7975\n",
      "Epoch 116/150\n",
      "781/781 [==============================] - 2s 3ms/step - loss: 0.0621 - acc: 0.9770 - val_loss: 2.1234 - val_acc: 0.7934\n",
      "Epoch 117/150\n",
      "781/781 [==============================] - 2s 3ms/step - loss: 0.0611 - acc: 0.9770 - val_loss: 2.1223 - val_acc: 0.7934\n",
      "Epoch 118/150\n",
      "781/781 [==============================] - 2s 3ms/step - loss: 0.0519 - acc: 0.9834 - val_loss: 2.1193 - val_acc: 0.7934\n",
      "Epoch 119/150\n",
      "781/781 [==============================] - 2s 3ms/step - loss: 0.0765 - acc: 0.9770 - val_loss: 2.1156 - val_acc: 0.7934\n",
      "Epoch 120/150\n",
      "781/781 [==============================] - 2s 3ms/step - loss: 0.0696 - acc: 0.9718 - val_loss: 2.1143 - val_acc: 0.7975\n",
      "Epoch 121/150\n",
      "781/781 [==============================] - 2s 3ms/step - loss: 0.0617 - acc: 0.9795 - val_loss: 2.1121 - val_acc: 0.7975\n",
      "Epoch 122/150\n",
      "781/781 [==============================] - 2s 3ms/step - loss: 0.0744 - acc: 0.9731 - val_loss: 2.1092 - val_acc: 0.7975\n"
     ]
    },
    {
     "name": "stdout",
     "output_type": "stream",
     "text": [
      "Epoch 123/150\n",
      "781/781 [==============================] - 2s 3ms/step - loss: 0.0667 - acc: 0.9770 - val_loss: 2.1081 - val_acc: 0.7975\n",
      "Epoch 124/150\n",
      "781/781 [==============================] - 2s 3ms/step - loss: 0.0840 - acc: 0.9706 - val_loss: 2.1109 - val_acc: 0.7975\n",
      "Epoch 125/150\n",
      "781/781 [==============================] - 2s 3ms/step - loss: 0.0582 - acc: 0.9808 - val_loss: 2.1115 - val_acc: 0.7975\n"
     ]
    }
   ],
   "source": [
    "model.compile(optimizer ='adam',loss='categorical_crossentropy', metrics =['acc'])\n",
    "\n",
    "callbacks_list = [tf.keras.callbacks.EarlyStopping(monitor='loss', patience=30),\n",
    "                  tf.keras.callbacks.ReduceLROnPlateau(monitor='val_loss',\n",
    "                                                       factor=0.1, patience=30)]\n",
    "\n",
    "history = model.fit(X_train, y_train,\n",
    "                    epochs=150, batch_size=128, \n",
    "                    callbacks=callbacks_list,\n",
    "                    validation_data=(X_val, y_val),\n",
    "                    shuffle=False)"
   ]
  },
  {
   "cell_type": "code",
   "execution_count": 25,
   "metadata": {},
   "outputs": [
    {
     "name": "stdout",
     "output_type": "stream",
     "text": [
      "Accuracy :  0.7975206611570248\n"
     ]
    },
    {
     "data": {
      "text/plain": [
       "array([[51,  2,  0,  0,  5],\n",
       "       [ 4, 13,  0,  0,  0],\n",
       "       [21,  0, 25,  0,  0],\n",
       "       [13,  0,  0, 52,  0],\n",
       "       [ 4,  0,  0,  0, 52]], dtype=int64)"
      ]
     },
     "execution_count": 25,
     "metadata": {},
     "output_type": "execute_result"
    }
   ],
   "source": [
    "import sklearn.metrics \n",
    "# from sklearn.metrics import confusion_matrix, classification_report\n",
    "\n",
    "y_val_pred = model.predict(X_val)\n",
    "cm = sklearn.metrics.confusion_matrix(np.argmax(y_val, axis=1), \n",
    "                                      np.argmax(y_val_pred, axis=1))\n",
    "acc = sklearn.metrics.accuracy_score(np.argmax(y_val, axis=1),\n",
    "                                     np.argmax(y_val_pred, axis=1))\n",
    "print(\"Accuracy : \", acc)\n",
    "model.save('SSL_MRCG_2DConv_RNN.h5')    \n",
    "cm"
   ]
  },
  {
   "cell_type": "markdown",
   "metadata": {},
   "source": [
    "# 모델2. 2D CNN + 1D CNN\n",
    "- 처음에는 2D CNN을 써서 `주파수-시간` 2차원 도메인.  2D CNN 뒤에 1D CNN을 stack.\n",
    "- 앞서 만든 데이터셋 활용 : `X_train, y_train, X_val, y_val` "
   ]
  },
  {
   "cell_type": "code",
   "execution_count": 26,
   "metadata": {
    "scrolled": true
   },
   "outputs": [
    {
     "name": "stdout",
     "output_type": "stream",
     "text": [
      "X_train :  (781, 768, 100, 2)\n",
      "y_train :  (781, 5)\n",
      "X_val :  (242, 768, 100, 2)\n",
      "y_val :  (242, 5)\n"
     ]
    }
   ],
   "source": [
    "for data_set in [[X_train, 'X_train'], [y_train, 'y_train'], \n",
    "                 [X_val,'X_val'], [y_val, 'y_val']]:\n",
    "    print(data_set[1], \": \", data_set[0].shape)"
   ]
  },
  {
   "cell_type": "markdown",
   "metadata": {},
   "source": [
    "### Version-1"
   ]
  },
  {
   "cell_type": "code",
   "execution_count": 27,
   "metadata": {},
   "outputs": [
    {
     "name": "stdout",
     "output_type": "stream",
     "text": [
      "_________________________________________________________________\n",
      "Layer (type)                 Output Shape              Param #   \n",
      "=================================================================\n",
      "input_2 (InputLayer)         (None, 768, 100, 2)       0         \n",
      "_________________________________________________________________\n",
      "conv2d_5 (Conv2D)            (None, 766, 98, 16)       304       \n",
      "_________________________________________________________________\n",
      "max_pooling2d_4 (MaxPooling2 (None, 255, 49, 16)       0         \n",
      "_________________________________________________________________\n",
      "conv2d_6 (Conv2D)            (None, 253, 47, 64)       9280      \n",
      "_________________________________________________________________\n",
      "max_pooling2d_5 (MaxPooling2 (None, 84, 23, 64)        0         \n",
      "_________________________________________________________________\n",
      "conv2d_7 (Conv2D)            (None, 84, 23, 128)       73856     \n",
      "_________________________________________________________________\n",
      "max_pooling2d_6 (MaxPooling2 (None, 21, 11, 128)       0         \n",
      "_________________________________________________________________\n",
      "conv2d_8 (Conv2D)            (None, 21, 11, 256)       295168    \n",
      "_________________________________________________________________\n",
      "max_pooling2d_7 (MaxPooling2 (None, 5, 5, 256)         0         \n",
      "_________________________________________________________________\n",
      "conv2d_9 (Conv2D)            (None, 1, 5, 512)         655872    \n",
      "_________________________________________________________________\n",
      "reshape_1 (Reshape)          (None, 5, 512)            0         \n",
      "_________________________________________________________________\n",
      "conv1d (Conv1D)              (None, 3, 512)            786944    \n",
      "_________________________________________________________________\n",
      "flatten (Flatten)            (None, 1536)              0         \n",
      "_________________________________________________________________\n",
      "dropout_1 (Dropout)          (None, 1536)              0         \n",
      "_________________________________________________________________\n",
      "dense_2 (Dense)              (None, 64)                98368     \n",
      "_________________________________________________________________\n",
      "dropout_2 (Dropout)          (None, 64)                0         \n",
      "_________________________________________________________________\n",
      "dense_3 (Dense)              (None, 5)                 325       \n",
      "=================================================================\n",
      "Total params: 1,920,117\n",
      "Trainable params: 1,920,117\n",
      "Non-trainable params: 0\n",
      "_________________________________________________________________\n"
     ]
    }
   ],
   "source": [
    "from tensorflow.keras.layers import Conv1D, MaxPooling1D, Input, Flatten, Dropout\n",
    "\n",
    "if 'model' in locals():\n",
    "    del model\n",
    "    \n",
    "input_spectrogram = Input(shape=(X_train.shape[1], X_train.shape[2], X_train.shape[3]))\n",
    "\n",
    "conv_1 = Conv2D(16, (3, 3), activation='relu', padding='valid')(input_spectrogram)\n",
    "conv_1_pool = MaxPooling2D((3, 2))(conv_1)\n",
    "\n",
    "conv_2 = Conv2D(64, (3, 3), activation='relu', padding='valid')(conv_1_pool)\n",
    "conv_2_pool = MaxPooling2D((3, 2))(conv_2)\n",
    "\n",
    "conv_3 = Conv2D(128, (3, 3), activation='relu', padding='same')(conv_2_pool)\n",
    "conv_3_pool = MaxPooling2D((4, 2))(conv_3)\n",
    "\n",
    "conv_4 = Conv2D(256, (3, 3), activation='relu', padding='same')(conv_3_pool)\n",
    "conv_4_pool = MaxPooling2D((4, 2))(conv_4)\n",
    "shape_conv_4_pool = conv_4_pool.get_shape().as_list()    # (None, height, width, channel)\n",
    "\n",
    "conv_5 = Conv2D(512, (shape_conv_4_pool[1], 1), padding='valid', activation='relu')(conv_4_pool)\n",
    "shape_conv_5 = conv_5.get_shape().as_list()\n",
    "\n",
    "reshaped = layers.Reshape((shape_conv_5[2], shape_conv_5[3]))(conv_5)   # reshape to (timesteps, features) explicitly \n",
    "\n",
    "conv_6 = Conv1D(512, kernel_size=3, activation='relu')(reshaped)\n",
    "flatten = layers.Flatten()(conv_6)\n",
    "flatten_drop = Dropout(0.3)(flatten)\n",
    "\n",
    "fc1 = layers.Dense(64, activation='relu')(flatten_drop)\n",
    "fc1_drop = Dropout(0.3)(fc1)\n",
    "\n",
    "dense_out = layers.Dense(5, activation='softmax')(fc1_drop)\n",
    "\n",
    "model = models.Model(inputs=input_spectrogram, outputs=dense_out)\n",
    "model.summary()"
   ]
  },
  {
   "cell_type": "code",
   "execution_count": 28,
   "metadata": {
    "scrolled": false
   },
   "outputs": [
    {
     "name": "stdout",
     "output_type": "stream",
     "text": [
      "Train on 781 samples, validate on 242 samples\n",
      "Epoch 1/150\n",
      "781/781 [==============================] - 5s 6ms/step - loss: 1.8627 - acc: 0.1908 - val_loss: 1.6192 - val_acc: 0.0702\n",
      "Epoch 2/150\n",
      "781/781 [==============================] - 2s 3ms/step - loss: 1.6156 - acc: 0.2074 - val_loss: 1.6067 - val_acc: 0.2397\n",
      "Epoch 3/150\n",
      "781/781 [==============================] - 2s 3ms/step - loss: 1.6023 - acc: 0.2817 - val_loss: 1.5888 - val_acc: 0.2603\n",
      "Epoch 4/150\n",
      "781/781 [==============================] - 2s 3ms/step - loss: 1.5781 - acc: 0.2945 - val_loss: 1.4863 - val_acc: 0.4008\n",
      "Epoch 5/150\n",
      "781/781 [==============================] - 2s 3ms/step - loss: 1.5412 - acc: 0.3124 - val_loss: 1.4713 - val_acc: 0.4050\n",
      "Epoch 6/150\n",
      "781/781 [==============================] - 2s 3ms/step - loss: 1.5222 - acc: 0.2919 - val_loss: 1.5012 - val_acc: 0.3512\n",
      "Epoch 7/150\n",
      "781/781 [==============================] - 2s 3ms/step - loss: 1.5096 - acc: 0.3316 - val_loss: 1.5992 - val_acc: 0.2562\n",
      "Epoch 8/150\n",
      "781/781 [==============================] - 2s 3ms/step - loss: 1.4856 - acc: 0.2753 - val_loss: 1.4591 - val_acc: 0.3678\n",
      "Epoch 9/150\n",
      "781/781 [==============================] - 2s 3ms/step - loss: 1.4258 - acc: 0.3239 - val_loss: 1.5439 - val_acc: 0.1446\n",
      "Epoch 10/150\n",
      "781/781 [==============================] - 2s 3ms/step - loss: 1.4191 - acc: 0.3303 - val_loss: 1.4673 - val_acc: 0.2314\n",
      "Epoch 11/150\n",
      "781/781 [==============================] - 2s 3ms/step - loss: 1.3680 - acc: 0.3470 - val_loss: 1.3455 - val_acc: 0.2893\n",
      "Epoch 12/150\n",
      "781/781 [==============================] - 2s 3ms/step - loss: 1.2785 - acc: 0.3611 - val_loss: 1.1729 - val_acc: 0.3843\n",
      "Epoch 13/150\n",
      "781/781 [==============================] - 2s 3ms/step - loss: 1.1486 - acc: 0.4763 - val_loss: 1.2368 - val_acc: 0.3802\n",
      "Epoch 14/150\n",
      "781/781 [==============================] - 2s 3ms/step - loss: 1.1720 - acc: 0.4328 - val_loss: 1.0488 - val_acc: 0.4711\n",
      "Epoch 15/150\n",
      "781/781 [==============================] - 2s 3ms/step - loss: 1.0066 - acc: 0.5608 - val_loss: 1.4138 - val_acc: 0.3182\n",
      "Epoch 16/150\n",
      "781/781 [==============================] - 2s 3ms/step - loss: 1.3917 - acc: 0.3329 - val_loss: 1.3982 - val_acc: 0.2686\n",
      "Epoch 17/150\n",
      "781/781 [==============================] - 2s 3ms/step - loss: 1.2317 - acc: 0.4174 - val_loss: 1.2843 - val_acc: 0.3802\n",
      "Epoch 18/150\n",
      "781/781 [==============================] - 2s 3ms/step - loss: 1.0610 - acc: 0.5544 - val_loss: 1.1900 - val_acc: 0.5579\n",
      "Epoch 19/150\n",
      "781/781 [==============================] - 2s 3ms/step - loss: 0.9472 - acc: 0.5928 - val_loss: 1.0458 - val_acc: 0.5124\n",
      "Epoch 20/150\n",
      "781/781 [==============================] - 2s 3ms/step - loss: 0.8611 - acc: 0.6172 - val_loss: 0.8920 - val_acc: 0.5661\n",
      "Epoch 21/150\n",
      "781/781 [==============================] - 2s 3ms/step - loss: 0.7354 - acc: 0.6735 - val_loss: 0.8006 - val_acc: 0.7025\n",
      "Epoch 22/150\n",
      "781/781 [==============================] - 2s 3ms/step - loss: 0.6775 - acc: 0.7119 - val_loss: 1.1127 - val_acc: 0.5331\n",
      "Epoch 23/150\n",
      "781/781 [==============================] - 2s 3ms/step - loss: 0.6996 - acc: 0.7247 - val_loss: 1.0769 - val_acc: 0.6736\n",
      "Epoch 24/150\n",
      "781/781 [==============================] - 2s 3ms/step - loss: 0.6353 - acc: 0.7516 - val_loss: 0.7163 - val_acc: 0.7438\n",
      "Epoch 25/150\n",
      "781/781 [==============================] - 2s 3ms/step - loss: 0.6728 - acc: 0.7196 - val_loss: 0.9830 - val_acc: 0.5950\n",
      "Epoch 26/150\n",
      "781/781 [==============================] - 2s 3ms/step - loss: 0.6935 - acc: 0.7234 - val_loss: 0.6844 - val_acc: 0.7479\n",
      "Epoch 27/150\n",
      "781/781 [==============================] - 2s 3ms/step - loss: 0.5316 - acc: 0.7695 - val_loss: 0.8206 - val_acc: 0.7025\n",
      "Epoch 28/150\n",
      "781/781 [==============================] - 2s 3ms/step - loss: 0.5920 - acc: 0.8067 - val_loss: 0.7461 - val_acc: 0.7231\n",
      "Epoch 29/150\n",
      "781/781 [==============================] - 2s 3ms/step - loss: 0.5311 - acc: 0.8131 - val_loss: 1.6412 - val_acc: 0.5702\n",
      "Epoch 30/150\n",
      "781/781 [==============================] - 2s 3ms/step - loss: 0.5686 - acc: 0.7913 - val_loss: 0.7301 - val_acc: 0.7355\n",
      "Epoch 31/150\n",
      "781/781 [==============================] - 2s 3ms/step - loss: 0.4116 - acc: 0.8476 - val_loss: 0.6678 - val_acc: 0.8017\n",
      "Epoch 32/150\n",
      "781/781 [==============================] - 2s 3ms/step - loss: 0.3120 - acc: 0.8796 - val_loss: 0.6255 - val_acc: 0.7810\n",
      "Epoch 33/150\n",
      "781/781 [==============================] - 2s 3ms/step - loss: 0.1910 - acc: 0.9334 - val_loss: 0.8740 - val_acc: 0.8017\n",
      "Epoch 34/150\n",
      "781/781 [==============================] - 2s 3ms/step - loss: 0.1410 - acc: 0.9501 - val_loss: 1.0953 - val_acc: 0.7975\n",
      "Epoch 35/150\n",
      "781/781 [==============================] - 2s 3ms/step - loss: 0.1047 - acc: 0.9616 - val_loss: 0.7670 - val_acc: 0.8306\n",
      "Epoch 36/150\n",
      "781/781 [==============================] - 2s 3ms/step - loss: 0.1265 - acc: 0.9565 - val_loss: 0.6848 - val_acc: 0.8099\n",
      "Epoch 37/150\n",
      "781/781 [==============================] - 2s 3ms/step - loss: 0.2030 - acc: 0.9232 - val_loss: 0.8914 - val_acc: 0.7810\n",
      "Epoch 38/150\n",
      "781/781 [==============================] - 2s 3ms/step - loss: 0.1310 - acc: 0.9616 - val_loss: 0.9194 - val_acc: 0.7769\n",
      "Epoch 39/150\n",
      "781/781 [==============================] - 2s 3ms/step - loss: 0.1372 - acc: 0.9590 - val_loss: 1.6132 - val_acc: 0.6983\n",
      "Epoch 40/150\n",
      "781/781 [==============================] - 2s 3ms/step - loss: 0.1741 - acc: 0.9373 - val_loss: 0.9467 - val_acc: 0.7397\n",
      "Epoch 41/150\n",
      "781/781 [==============================] - 2s 3ms/step - loss: 0.1066 - acc: 0.9654 - val_loss: 0.9768 - val_acc: 0.7686\n",
      "Epoch 42/150\n",
      "781/781 [==============================] - 3s 3ms/step - loss: 0.1200 - acc: 0.9603 - val_loss: 1.1025 - val_acc: 0.7810\n",
      "Epoch 43/150\n",
      "781/781 [==============================] - 2s 3ms/step - loss: 0.0423 - acc: 0.9885 - val_loss: 1.1153 - val_acc: 0.7893\n",
      "Epoch 44/150\n",
      "781/781 [==============================] - 2s 3ms/step - loss: 0.0434 - acc: 0.9898 - val_loss: 1.1018 - val_acc: 0.7934\n",
      "Epoch 45/150\n",
      "781/781 [==============================] - 2s 3ms/step - loss: 0.0290 - acc: 0.9923 - val_loss: 1.0728 - val_acc: 0.7893\n",
      "Epoch 46/150\n",
      "781/781 [==============================] - 2s 3ms/step - loss: 0.0430 - acc: 0.9898 - val_loss: 1.0893 - val_acc: 0.7934\n",
      "Epoch 47/150\n",
      "781/781 [==============================] - 2s 3ms/step - loss: 0.0296 - acc: 0.9923 - val_loss: 1.1235 - val_acc: 0.7893\n",
      "Epoch 48/150\n",
      "781/781 [==============================] - 2s 3ms/step - loss: 0.0314 - acc: 0.9898 - val_loss: 1.1701 - val_acc: 0.7893\n",
      "Epoch 49/150\n",
      "781/781 [==============================] - 2s 3ms/step - loss: 0.0311 - acc: 0.9923 - val_loss: 1.1720 - val_acc: 0.7893\n",
      "Epoch 50/150\n",
      "781/781 [==============================] - 2s 3ms/step - loss: 0.0280 - acc: 0.9910 - val_loss: 1.2221 - val_acc: 0.7810\n",
      "Epoch 51/150\n",
      "781/781 [==============================] - 2s 3ms/step - loss: 0.0248 - acc: 0.9949 - val_loss: 1.2365 - val_acc: 0.7769\n",
      "Epoch 52/150\n",
      "781/781 [==============================] - 2s 3ms/step - loss: 0.0213 - acc: 0.9974 - val_loss: 1.2553 - val_acc: 0.7810\n",
      "Epoch 53/150\n",
      "781/781 [==============================] - 2s 3ms/step - loss: 0.0219 - acc: 0.9962 - val_loss: 1.2487 - val_acc: 0.7810\n",
      "Epoch 54/150\n",
      "781/781 [==============================] - 2s 3ms/step - loss: 0.0262 - acc: 0.9923 - val_loss: 1.2481 - val_acc: 0.7810\n",
      "Epoch 55/150\n",
      "781/781 [==============================] - 2s 3ms/step - loss: 0.0197 - acc: 0.9962 - val_loss: 1.2470 - val_acc: 0.7769\n",
      "Epoch 56/150\n",
      "781/781 [==============================] - 2s 3ms/step - loss: 0.0253 - acc: 0.9923 - val_loss: 1.2397 - val_acc: 0.7769\n",
      "Epoch 57/150\n",
      "781/781 [==============================] - 2s 3ms/step - loss: 0.0220 - acc: 0.9949 - val_loss: 1.2294 - val_acc: 0.7769\n",
      "Epoch 58/150\n",
      "781/781 [==============================] - 2s 3ms/step - loss: 0.0234 - acc: 0.9974 - val_loss: 1.2239 - val_acc: 0.7769\n",
      "Epoch 59/150\n",
      "781/781 [==============================] - 2s 3ms/step - loss: 0.0229 - acc: 0.9962 - val_loss: 1.2204 - val_acc: 0.7851\n",
      "Epoch 60/150\n",
      "781/781 [==============================] - 2s 3ms/step - loss: 0.0198 - acc: 0.9962 - val_loss: 1.2170 - val_acc: 0.7851\n",
      "Epoch 61/150\n",
      "781/781 [==============================] - 2s 3ms/step - loss: 0.0192 - acc: 0.9962 - val_loss: 1.2174 - val_acc: 0.7851\n"
     ]
    },
    {
     "name": "stdout",
     "output_type": "stream",
     "text": [
      "Epoch 62/150\n",
      "781/781 [==============================] - 2s 3ms/step - loss: 0.0188 - acc: 0.9962 - val_loss: 1.2233 - val_acc: 0.7810\n",
      "Epoch 63/150\n",
      "781/781 [==============================] - 2s 3ms/step - loss: 0.0290 - acc: 0.9910 - val_loss: 1.2235 - val_acc: 0.7810\n",
      "Epoch 64/150\n",
      "781/781 [==============================] - 2s 3ms/step - loss: 0.0250 - acc: 0.9936 - val_loss: 1.2234 - val_acc: 0.7810\n",
      "Epoch 65/150\n",
      "781/781 [==============================] - 2s 3ms/step - loss: 0.0213 - acc: 0.9962 - val_loss: 1.2236 - val_acc: 0.7810\n",
      "Epoch 66/150\n",
      "781/781 [==============================] - 2s 3ms/step - loss: 0.0232 - acc: 0.9949 - val_loss: 1.2239 - val_acc: 0.7810\n",
      "Epoch 67/150\n",
      "781/781 [==============================] - 2s 3ms/step - loss: 0.0152 - acc: 0.9987 - val_loss: 1.2241 - val_acc: 0.7810\n",
      "Epoch 68/150\n",
      "781/781 [==============================] - 2s 3ms/step - loss: 0.0222 - acc: 0.9949 - val_loss: 1.2244 - val_acc: 0.7810\n",
      "Epoch 69/150\n",
      "781/781 [==============================] - 2s 3ms/step - loss: 0.0184 - acc: 0.9962 - val_loss: 1.2247 - val_acc: 0.7810\n",
      "Epoch 70/150\n",
      "781/781 [==============================] - 2s 3ms/step - loss: 0.0158 - acc: 0.9974 - val_loss: 1.2252 - val_acc: 0.7810\n",
      "Epoch 71/150\n",
      "781/781 [==============================] - 2s 3ms/step - loss: 0.0188 - acc: 0.9987 - val_loss: 1.2251 - val_acc: 0.7810\n",
      "Epoch 72/150\n",
      "781/781 [==============================] - 2s 3ms/step - loss: 0.0190 - acc: 0.9936 - val_loss: 1.2253 - val_acc: 0.7810\n",
      "Epoch 73/150\n",
      "781/781 [==============================] - 2s 3ms/step - loss: 0.0211 - acc: 0.9949 - val_loss: 1.2253 - val_acc: 0.7810\n",
      "Epoch 74/150\n",
      "781/781 [==============================] - 2s 3ms/step - loss: 0.0250 - acc: 0.9949 - val_loss: 1.2253 - val_acc: 0.7810\n",
      "Epoch 75/150\n",
      "781/781 [==============================] - 2s 3ms/step - loss: 0.0230 - acc: 0.9949 - val_loss: 1.2254 - val_acc: 0.7810\n",
      "Epoch 76/150\n",
      "781/781 [==============================] - 2s 3ms/step - loss: 0.0196 - acc: 0.9936 - val_loss: 1.2254 - val_acc: 0.7810\n",
      "Epoch 77/150\n",
      "781/781 [==============================] - 2s 3ms/step - loss: 0.0233 - acc: 0.9923 - val_loss: 1.2254 - val_acc: 0.7810\n",
      "Epoch 78/150\n",
      "781/781 [==============================] - 2s 3ms/step - loss: 0.0182 - acc: 0.9987 - val_loss: 1.2254 - val_acc: 0.7810\n",
      "Epoch 79/150\n",
      "781/781 [==============================] - 2s 3ms/step - loss: 0.0192 - acc: 0.9974 - val_loss: 1.2254 - val_acc: 0.7810\n",
      "Epoch 80/150\n",
      "781/781 [==============================] - 2s 3ms/step - loss: 0.0215 - acc: 0.9949 - val_loss: 1.2254 - val_acc: 0.7810\n",
      "Epoch 81/150\n",
      "781/781 [==============================] - 2s 3ms/step - loss: 0.0253 - acc: 0.9923 - val_loss: 1.2255 - val_acc: 0.7810\n",
      "Epoch 82/150\n",
      "781/781 [==============================] - 2s 3ms/step - loss: 0.0201 - acc: 0.9974 - val_loss: 1.2255 - val_acc: 0.7810\n",
      "Epoch 83/150\n",
      "781/781 [==============================] - 2s 3ms/step - loss: 0.0191 - acc: 0.9987 - val_loss: 1.2255 - val_acc: 0.7810\n",
      "Epoch 84/150\n",
      "781/781 [==============================] - 2s 3ms/step - loss: 0.0218 - acc: 0.9936 - val_loss: 1.2255 - val_acc: 0.7810\n",
      "Epoch 85/150\n",
      "781/781 [==============================] - 2s 3ms/step - loss: 0.0169 - acc: 0.9974 - val_loss: 1.2255 - val_acc: 0.7810\n",
      "Epoch 86/150\n",
      "781/781 [==============================] - 2s 3ms/step - loss: 0.0219 - acc: 0.9962 - val_loss: 1.2255 - val_acc: 0.7810\n",
      "Epoch 87/150\n",
      "781/781 [==============================] - 2s 3ms/step - loss: 0.0242 - acc: 0.9923 - val_loss: 1.2255 - val_acc: 0.7810\n"
     ]
    }
   ],
   "source": [
    "model.compile(optimizer ='adam',loss='categorical_crossentropy', metrics =['acc'])\n",
    "\n",
    "callbacks_list = [keras.callbacks.EarlyStopping(monitor='loss', patience=20),\n",
    "                  keras.callbacks.ReduceLROnPlateau(monitor='val_loss',\n",
    "                                                       factor=0.1, patience=10)]\n",
    "\n",
    "history = model.fit(X_train, y_train,\n",
    "                    epochs=150, batch_size=64, \n",
    "                    callbacks=callbacks_list,\n",
    "                    validation_data=(X_val, y_val),\n",
    "                    shuffle=False)"
   ]
  },
  {
   "cell_type": "code",
   "execution_count": 29,
   "metadata": {},
   "outputs": [
    {
     "name": "stdout",
     "output_type": "stream",
     "text": [
      "Accuracy :  0.78099173553719\n"
     ]
    },
    {
     "data": {
      "text/plain": [
       "array([[48,  2,  0,  4,  4],\n",
       "       [ 4, 13,  0,  0,  0],\n",
       "       [23,  0, 22,  1,  0],\n",
       "       [14,  0,  0, 51,  0],\n",
       "       [ 0,  0,  0,  1, 55]], dtype=int64)"
      ]
     },
     "execution_count": 29,
     "metadata": {},
     "output_type": "execute_result"
    }
   ],
   "source": [
    "import sklearn.metrics \n",
    "# from sklearn.metrics import confusion_matrix, classification_report\n",
    "\n",
    "y_val_pred = model.predict(X_val)\n",
    "cm = sklearn.metrics.confusion_matrix(np.argmax(y_val, axis=1), \n",
    "                                      np.argmax(y_val_pred, axis=1))\n",
    "acc = sklearn.metrics.accuracy_score(np.argmax(y_val, axis=1),\n",
    "                                     np.argmax(y_val_pred, axis=1))\n",
    "print(\"Accuracy : \", acc)\n",
    "model.save('SSL_MRCG_2DConv_1DConv.h5')    \n",
    "cm"
   ]
  },
  {
   "cell_type": "markdown",
   "metadata": {},
   "source": [
    "### Version-2"
   ]
  },
  {
   "cell_type": "code",
   "execution_count": 30,
   "metadata": {},
   "outputs": [
    {
     "name": "stdout",
     "output_type": "stream",
     "text": [
      "shape_max_pool_3 :  [None, 15, 10, 64]\n",
      "shape_conv_4 :  [None, 1, 10, 1024]\n",
      "_________________________________________________________________\n",
      "Layer (type)                 Output Shape              Param #   \n",
      "=================================================================\n",
      "input_1 (InputLayer)         (None, 768, 100, 2)       0         \n",
      "_________________________________________________________________\n",
      "conv2d (Conv2D)              (None, 766, 98, 16)       304       \n",
      "_________________________________________________________________\n",
      "max_pooling2d (MaxPooling2D) (None, 383, 49, 16)       0         \n",
      "_________________________________________________________________\n",
      "conv2d_1 (Conv2D)            (None, 381, 47, 32)       4640      \n",
      "_________________________________________________________________\n",
      "max_pooling2d_1 (MaxPooling2 (None, 190, 23, 32)       0         \n",
      "_________________________________________________________________\n",
      "conv2d_2 (Conv2D)            (None, 94, 21, 64)        18496     \n",
      "_________________________________________________________________\n",
      "conv2d_3 (Conv2D)            (None, 46, 20, 64)        24640     \n",
      "_________________________________________________________________\n",
      "max_pool_3 (MaxPooling2D)    (None, 15, 10, 64)        0         \n",
      "_________________________________________________________________\n",
      "conv2d_4 (Conv2D)            (None, 1, 10, 1024)       984064    \n",
      "_________________________________________________________________\n",
      "reshape (Reshape)            (None, 10, 1024)          0         \n",
      "_________________________________________________________________\n",
      "conv1d (Conv1D)              (None, 8, 512)            1573376   \n",
      "_________________________________________________________________\n",
      "flatten (Flatten)            (None, 4096)              0         \n",
      "_________________________________________________________________\n",
      "dense (Dense)                (None, 32)                131104    \n",
      "_________________________________________________________________\n",
      "dropout (Dropout)            (None, 32)                0         \n",
      "_________________________________________________________________\n",
      "dense_1 (Dense)              (None, 5)                 165       \n",
      "=================================================================\n",
      "Total params: 2,736,789\n",
      "Trainable params: 2,736,789\n",
      "Non-trainable params: 0\n",
      "_________________________________________________________________\n"
     ]
    }
   ],
   "source": [
    "reset_keras_session(100)\n",
    "\n",
    "if 'model' in locals():\n",
    "    del model\n",
    "    \n",
    "input_spectrogram = Input(shape=(X_train.shape[1], X_train.shape[2], X_train.shape[3]))\n",
    "\n",
    "conv_1 = Conv2D(16, (3, 3), activation='relu')(input_spectrogram)\n",
    "max_pool_1 = MaxPooling2D((2, 2))(conv_1)\n",
    "\n",
    "conv_2 = Conv2D(32, (3, 3), activation='relu')(max_pool_1)\n",
    "max_pool_2 = MaxPooling2D((2, 2))(conv_2)\n",
    "\n",
    "conv_3 = Conv2D(64, (3, 3), strides=(2,1), activation='relu')(max_pool_2)\n",
    "conv_3_1 = Conv2D(64, (3, 2), strides=(2,1), activation='relu')(conv_3)\n",
    "max_pool_3 = MaxPooling2D((3, 2), name='max_pool_3')(conv_3_1)\n",
    "\n",
    "shape_max_pool_3 = max_pool_3.get_shape().as_list()    # (None, height, width, channel)\n",
    "print(\"shape_max_pool_3 : \", shape_max_pool_3)\n",
    "# reshaped = layers.Reshape((-1, shape_list[1]*shape_list[3]))(max_pool_3)\n",
    "\n",
    "conv_4 = Conv2D(1024, (shape_max_pool_3[1], 1), padding='valid', activation='relu')(max_pool_3)\n",
    "shape_conv_4 = conv_4.get_shape().as_list()\n",
    "print(\"shape_conv_4 : \", shape_conv_4)\n",
    "\n",
    "reshaped = layers.Reshape((shape_conv_4[2], shape_conv_4[3]))(conv_4) # reshape to (timesteps, features) explicitly \n",
    "\n",
    "conv_5 = Conv1D(512, kernel_size=3, activation='relu')(reshaped)\n",
    "\n",
    "flatten = layers.Flatten()(conv_5)\n",
    "# flatten_drop = Dropout(0.3)(flatten)\n",
    "\n",
    "fc1 = layers.Dense(32, activation='relu')(flatten)\n",
    "fc1_drop = Dropout(0.1)(fc1)\n",
    "dense_out = layers.Dense(5, activation='softmax')(fc1_drop)\n",
    "\n",
    "model = models.Model(inputs=input_spectrogram, outputs=dense_out)\n",
    "model.summary()"
   ]
  },
  {
   "cell_type": "code",
   "execution_count": 31,
   "metadata": {
    "scrolled": false
   },
   "outputs": [
    {
     "name": "stdout",
     "output_type": "stream",
     "text": [
      "Train on 781 samples, validate on 242 samples\n",
      "Epoch 1/150\n",
      "781/781 [==============================] - 4s 5ms/step - loss: 1.6582 - acc: 0.2023 - val_loss: 1.6416 - val_acc: 0.2397\n",
      "Epoch 2/150\n",
      "781/781 [==============================] - 2s 3ms/step - loss: 1.6149 - acc: 0.2561 - val_loss: 1.6208 - val_acc: 0.2397\n",
      "Epoch 3/150\n",
      "781/781 [==============================] - 2s 3ms/step - loss: 1.6034 - acc: 0.2804 - val_loss: 1.6599 - val_acc: 0.2397\n",
      "Epoch 4/150\n",
      "781/781 [==============================] - 2s 3ms/step - loss: 1.6028 - acc: 0.2702 - val_loss: 1.6192 - val_acc: 0.2397\n",
      "Epoch 5/150\n",
      "781/781 [==============================] - 2s 3ms/step - loss: 1.5803 - acc: 0.2778 - val_loss: 1.6122 - val_acc: 0.2397\n",
      "Epoch 6/150\n",
      "781/781 [==============================] - 2s 3ms/step - loss: 1.5447 - acc: 0.2907 - val_loss: 1.5811 - val_acc: 0.2397\n",
      "Epoch 7/150\n",
      "781/781 [==============================] - 2s 3ms/step - loss: 1.4996 - acc: 0.2996 - val_loss: 1.5370 - val_acc: 0.2769\n",
      "Epoch 8/150\n",
      "781/781 [==============================] - 2s 3ms/step - loss: 1.4388 - acc: 0.3560 - val_loss: 1.5151 - val_acc: 0.2686\n",
      "Epoch 9/150\n",
      "781/781 [==============================] - 2s 3ms/step - loss: 1.4807 - acc: 0.3047 - val_loss: 1.5357 - val_acc: 0.2025\n",
      "Epoch 10/150\n",
      "781/781 [==============================] - 2s 3ms/step - loss: 1.4186 - acc: 0.3713 - val_loss: 1.4479 - val_acc: 0.2686\n",
      "Epoch 11/150\n",
      "781/781 [==============================] - 2s 3ms/step - loss: 1.3251 - acc: 0.3739 - val_loss: 1.4169 - val_acc: 0.2769\n",
      "Epoch 12/150\n",
      "781/781 [==============================] - 2s 3ms/step - loss: 1.3250 - acc: 0.3572 - val_loss: 1.4078 - val_acc: 0.2521\n",
      "Epoch 13/150\n",
      "781/781 [==============================] - 2s 3ms/step - loss: 1.2351 - acc: 0.4110 - val_loss: 1.3854 - val_acc: 0.2727\n",
      "Epoch 14/150\n",
      "781/781 [==============================] - 2s 3ms/step - loss: 1.1897 - acc: 0.4136 - val_loss: 1.3413 - val_acc: 0.2851\n",
      "Epoch 15/150\n",
      "781/781 [==============================] - 2s 3ms/step - loss: 1.2120 - acc: 0.4200 - val_loss: 1.3406 - val_acc: 0.3719\n",
      "Epoch 16/150\n",
      "781/781 [==============================] - 2s 3ms/step - loss: 1.1663 - acc: 0.4699 - val_loss: 1.4276 - val_acc: 0.2562\n",
      "Epoch 17/150\n",
      "781/781 [==============================] - 2s 3ms/step - loss: 1.1031 - acc: 0.5122 - val_loss: 1.3372 - val_acc: 0.3471\n",
      "Epoch 18/150\n",
      "781/781 [==============================] - 2s 3ms/step - loss: 1.0104 - acc: 0.5698 - val_loss: 1.1651 - val_acc: 0.5413\n",
      "Epoch 19/150\n",
      "781/781 [==============================] - 2s 3ms/step - loss: 0.9019 - acc: 0.6082 - val_loss: 1.1978 - val_acc: 0.4793\n",
      "Epoch 20/150\n",
      "781/781 [==============================] - 2s 3ms/step - loss: 0.7916 - acc: 0.6581 - val_loss: 1.4117 - val_acc: 0.4339\n",
      "Epoch 21/150\n",
      "781/781 [==============================] - 2s 3ms/step - loss: 0.7327 - acc: 0.6620 - val_loss: 1.7775 - val_acc: 0.2893\n",
      "Epoch 22/150\n",
      "781/781 [==============================] - 2s 3ms/step - loss: 0.8356 - acc: 0.6018 - val_loss: 1.2626 - val_acc: 0.3967\n",
      "Epoch 23/150\n",
      "781/781 [==============================] - 2s 3ms/step - loss: 0.7703 - acc: 0.6594 - val_loss: 1.1338 - val_acc: 0.4050\n",
      "Epoch 24/150\n",
      "781/781 [==============================] - 2s 3ms/step - loss: 0.7452 - acc: 0.6658 - val_loss: 0.9563 - val_acc: 0.5785\n",
      "Epoch 25/150\n",
      "781/781 [==============================] - 2s 3ms/step - loss: 0.5832 - acc: 0.7746 - val_loss: 1.1631 - val_acc: 0.6364\n",
      "Epoch 26/150\n",
      "781/781 [==============================] - 2s 3ms/step - loss: 0.5591 - acc: 0.7862 - val_loss: 1.0294 - val_acc: 0.7066\n",
      "Epoch 27/150\n",
      "781/781 [==============================] - 2s 3ms/step - loss: 0.4463 - acc: 0.8220 - val_loss: 1.1896 - val_acc: 0.6694\n",
      "Epoch 28/150\n",
      "781/781 [==============================] - 2s 3ms/step - loss: 0.5832 - acc: 0.7900 - val_loss: 1.0657 - val_acc: 0.6364\n",
      "Epoch 29/150\n",
      "781/781 [==============================] - 2s 3ms/step - loss: 0.5295 - acc: 0.7721 - val_loss: 0.7717 - val_acc: 0.7107\n",
      "Epoch 30/150\n",
      "781/781 [==============================] - 2s 3ms/step - loss: 0.3643 - acc: 0.8604 - val_loss: 1.1368 - val_acc: 0.6694\n",
      "Epoch 31/150\n",
      "781/781 [==============================] - 2s 3ms/step - loss: 0.3065 - acc: 0.8745 - val_loss: 1.0086 - val_acc: 0.6281\n",
      "Epoch 32/150\n",
      "781/781 [==============================] - 2s 3ms/step - loss: 0.3052 - acc: 0.8694 - val_loss: 0.8558 - val_acc: 0.7231\n",
      "Epoch 33/150\n",
      "781/781 [==============================] - 2s 3ms/step - loss: 0.2635 - acc: 0.8963 - val_loss: 1.1982 - val_acc: 0.6570\n",
      "Epoch 34/150\n",
      "781/781 [==============================] - 2s 3ms/step - loss: 0.2276 - acc: 0.8988 - val_loss: 1.5228 - val_acc: 0.6488\n",
      "Epoch 35/150\n",
      "781/781 [==============================] - 2s 3ms/step - loss: 0.2967 - acc: 0.8822 - val_loss: 0.7645 - val_acc: 0.7727\n",
      "Epoch 36/150\n",
      "781/781 [==============================] - 2s 3ms/step - loss: 0.1980 - acc: 0.9283 - val_loss: 1.0783 - val_acc: 0.6488\n",
      "Epoch 37/150\n",
      "781/781 [==============================] - 2s 3ms/step - loss: 0.1615 - acc: 0.9347 - val_loss: 1.3431 - val_acc: 0.6860\n",
      "Epoch 38/150\n",
      "781/781 [==============================] - 2s 3ms/step - loss: 0.1432 - acc: 0.9488 - val_loss: 1.9602 - val_acc: 0.5744\n",
      "Epoch 39/150\n",
      "781/781 [==============================] - 2s 3ms/step - loss: 0.1428 - acc: 0.9373 - val_loss: 1.6288 - val_acc: 0.5909\n",
      "Epoch 40/150\n",
      "781/781 [==============================] - 2s 3ms/step - loss: 0.1723 - acc: 0.9334 - val_loss: 1.7206 - val_acc: 0.5992\n",
      "Epoch 41/150\n",
      "781/781 [==============================] - 2s 3ms/step - loss: 0.1324 - acc: 0.9539 - val_loss: 1.3986 - val_acc: 0.7562\n",
      "Epoch 42/150\n",
      "781/781 [==============================] - 2s 3ms/step - loss: 0.1236 - acc: 0.9552 - val_loss: 0.9453 - val_acc: 0.7355\n",
      "Epoch 43/150\n",
      "781/781 [==============================] - 2s 3ms/step - loss: 0.1026 - acc: 0.9590 - val_loss: 1.7326 - val_acc: 0.7107\n",
      "Epoch 44/150\n",
      "781/781 [==============================] - 2s 3ms/step - loss: 0.1162 - acc: 0.9577 - val_loss: 3.3009 - val_acc: 0.5909\n",
      "Epoch 45/150\n",
      "781/781 [==============================] - 2s 3ms/step - loss: 0.1396 - acc: 0.9539 - val_loss: 1.6922 - val_acc: 0.6983\n",
      "Epoch 46/150\n",
      "781/781 [==============================] - 2s 3ms/step - loss: 0.1324 - acc: 0.9577 - val_loss: 1.4523 - val_acc: 0.7479\n",
      "Epoch 47/150\n",
      "781/781 [==============================] - 2s 3ms/step - loss: 0.0821 - acc: 0.9680 - val_loss: 1.3521 - val_acc: 0.7727\n",
      "Epoch 48/150\n",
      "781/781 [==============================] - 2s 3ms/step - loss: 0.0638 - acc: 0.9782 - val_loss: 1.2620 - val_acc: 0.7727\n",
      "Epoch 49/150\n",
      "781/781 [==============================] - 2s 3ms/step - loss: 0.0893 - acc: 0.9680 - val_loss: 1.2438 - val_acc: 0.7727\n",
      "Epoch 50/150\n",
      "781/781 [==============================] - 2s 3ms/step - loss: 0.0795 - acc: 0.9629 - val_loss: 1.2943 - val_acc: 0.7727\n",
      "Epoch 51/150\n",
      "781/781 [==============================] - 2s 3ms/step - loss: 0.0654 - acc: 0.9757 - val_loss: 1.3800 - val_acc: 0.7686\n",
      "Epoch 52/150\n",
      "781/781 [==============================] - 2s 3ms/step - loss: 0.0620 - acc: 0.9744 - val_loss: 1.3651 - val_acc: 0.7769\n",
      "Epoch 53/150\n",
      "781/781 [==============================] - 2s 3ms/step - loss: 0.0706 - acc: 0.9706 - val_loss: 1.3691 - val_acc: 0.7769\n",
      "Epoch 54/150\n",
      "781/781 [==============================] - 2s 3ms/step - loss: 0.0601 - acc: 0.9744 - val_loss: 1.3794 - val_acc: 0.7686\n",
      "Epoch 55/150\n",
      "781/781 [==============================] - 2s 3ms/step - loss: 0.0684 - acc: 0.9706 - val_loss: 1.4025 - val_acc: 0.7686\n",
      "Epoch 56/150\n",
      "781/781 [==============================] - 2s 3ms/step - loss: 0.0622 - acc: 0.9757 - val_loss: 1.4095 - val_acc: 0.7686\n",
      "Epoch 57/150\n",
      "781/781 [==============================] - 2s 3ms/step - loss: 0.0643 - acc: 0.9706 - val_loss: 1.4124 - val_acc: 0.7645\n",
      "Epoch 58/150\n",
      "781/781 [==============================] - 2s 3ms/step - loss: 0.0601 - acc: 0.9757 - val_loss: 1.4143 - val_acc: 0.7645\n",
      "Epoch 59/150\n",
      "781/781 [==============================] - 2s 3ms/step - loss: 0.0563 - acc: 0.9770 - val_loss: 1.4197 - val_acc: 0.7645\n",
      "Epoch 60/150\n",
      "781/781 [==============================] - 2s 3ms/step - loss: 0.0771 - acc: 0.9693 - val_loss: 1.4258 - val_acc: 0.7645\n",
      "Epoch 61/150\n",
      "781/781 [==============================] - 2s 3ms/step - loss: 0.0543 - acc: 0.9782 - val_loss: 1.4250 - val_acc: 0.7645\n"
     ]
    },
    {
     "name": "stdout",
     "output_type": "stream",
     "text": [
      "Epoch 62/150\n",
      "781/781 [==============================] - 2s 3ms/step - loss: 0.0535 - acc: 0.9821 - val_loss: 1.4253 - val_acc: 0.7645\n",
      "Epoch 63/150\n",
      "781/781 [==============================] - 2s 3ms/step - loss: 0.0699 - acc: 0.9718 - val_loss: 1.4210 - val_acc: 0.7645\n",
      "Epoch 64/150\n",
      "781/781 [==============================] - 2s 3ms/step - loss: 0.0530 - acc: 0.9770 - val_loss: 1.4187 - val_acc: 0.7645\n",
      "Epoch 65/150\n",
      "781/781 [==============================] - 2s 3ms/step - loss: 0.0640 - acc: 0.9693 - val_loss: 1.4172 - val_acc: 0.7645\n",
      "Epoch 66/150\n",
      "781/781 [==============================] - 2s 3ms/step - loss: 0.0540 - acc: 0.9795 - val_loss: 1.4172 - val_acc: 0.7645\n",
      "Epoch 67/150\n",
      "781/781 [==============================] - 2s 3ms/step - loss: 0.0737 - acc: 0.9693 - val_loss: 1.4170 - val_acc: 0.7645\n",
      "Epoch 68/150\n",
      "781/781 [==============================] - 2s 3ms/step - loss: 0.0657 - acc: 0.9731 - val_loss: 1.4168 - val_acc: 0.7645\n",
      "Epoch 69/150\n",
      "781/781 [==============================] - 2s 3ms/step - loss: 0.0693 - acc: 0.9680 - val_loss: 1.4171 - val_acc: 0.7645\n",
      "Epoch 70/150\n",
      "781/781 [==============================] - 2s 3ms/step - loss: 0.0696 - acc: 0.9706 - val_loss: 1.4179 - val_acc: 0.7645\n",
      "Epoch 71/150\n",
      "781/781 [==============================] - 2s 3ms/step - loss: 0.0735 - acc: 0.9680 - val_loss: 1.4182 - val_acc: 0.7686\n",
      "Epoch 72/150\n",
      "781/781 [==============================] - 2s 3ms/step - loss: 0.0547 - acc: 0.9782 - val_loss: 1.4187 - val_acc: 0.7686\n",
      "Epoch 73/150\n",
      "781/781 [==============================] - 2s 3ms/step - loss: 0.0662 - acc: 0.9731 - val_loss: 1.4191 - val_acc: 0.7686\n",
      "Epoch 74/150\n",
      "781/781 [==============================] - 2s 3ms/step - loss: 0.0497 - acc: 0.9821 - val_loss: 1.4200 - val_acc: 0.7686\n",
      "Epoch 75/150\n",
      "781/781 [==============================] - 2s 3ms/step - loss: 0.0702 - acc: 0.9744 - val_loss: 1.4205 - val_acc: 0.7686\n",
      "Epoch 76/150\n",
      "781/781 [==============================] - 2s 3ms/step - loss: 0.0699 - acc: 0.9706 - val_loss: 1.4206 - val_acc: 0.7686\n",
      "Epoch 77/150\n",
      "781/781 [==============================] - 2s 3ms/step - loss: 0.0621 - acc: 0.9706 - val_loss: 1.4206 - val_acc: 0.7686\n",
      "Epoch 78/150\n",
      "781/781 [==============================] - 2s 3ms/step - loss: 0.0636 - acc: 0.9718 - val_loss: 1.4206 - val_acc: 0.7686\n",
      "Epoch 79/150\n",
      "781/781 [==============================] - 2s 3ms/step - loss: 0.0637 - acc: 0.9770 - val_loss: 1.4206 - val_acc: 0.7686\n",
      "Epoch 80/150\n",
      "781/781 [==============================] - 2s 3ms/step - loss: 0.0637 - acc: 0.9744 - val_loss: 1.4206 - val_acc: 0.7686\n",
      "Epoch 81/150\n",
      "781/781 [==============================] - 2s 3ms/step - loss: 0.0617 - acc: 0.9782 - val_loss: 1.4206 - val_acc: 0.7686\n",
      "Epoch 82/150\n",
      "781/781 [==============================] - 2s 3ms/step - loss: 0.0614 - acc: 0.9731 - val_loss: 1.4206 - val_acc: 0.7686\n",
      "Epoch 83/150\n",
      "781/781 [==============================] - 2s 3ms/step - loss: 0.0588 - acc: 0.9757 - val_loss: 1.4206 - val_acc: 0.7686\n",
      "Epoch 84/150\n",
      "781/781 [==============================] - 2s 3ms/step - loss: 0.0592 - acc: 0.9744 - val_loss: 1.4206 - val_acc: 0.7686\n",
      "Epoch 85/150\n",
      "781/781 [==============================] - 2s 3ms/step - loss: 0.0682 - acc: 0.9680 - val_loss: 1.4207 - val_acc: 0.7686\n",
      "Epoch 86/150\n",
      "781/781 [==============================] - 2s 3ms/step - loss: 0.0497 - acc: 0.9834 - val_loss: 1.4207 - val_acc: 0.7686\n",
      "Epoch 87/150\n",
      "781/781 [==============================] - 2s 3ms/step - loss: 0.0513 - acc: 0.9770 - val_loss: 1.4207 - val_acc: 0.7686\n",
      "Epoch 88/150\n",
      "781/781 [==============================] - 2s 3ms/step - loss: 0.0579 - acc: 0.9731 - val_loss: 1.4207 - val_acc: 0.7686\n",
      "Epoch 89/150\n",
      "781/781 [==============================] - 2s 3ms/step - loss: 0.0719 - acc: 0.9667 - val_loss: 1.4207 - val_acc: 0.7686\n",
      "Epoch 90/150\n",
      "781/781 [==============================] - 2s 3ms/step - loss: 0.0720 - acc: 0.9693 - val_loss: 1.4207 - val_acc: 0.7686\n",
      "Epoch 91/150\n",
      "781/781 [==============================] - 2s 3ms/step - loss: 0.0642 - acc: 0.9718 - val_loss: 1.4207 - val_acc: 0.7686\n",
      "Epoch 92/150\n",
      "781/781 [==============================] - 2s 3ms/step - loss: 0.0528 - acc: 0.9757 - val_loss: 1.4207 - val_acc: 0.7686\n",
      "Epoch 93/150\n",
      "781/781 [==============================] - 2s 3ms/step - loss: 0.0741 - acc: 0.9680 - val_loss: 1.4207 - val_acc: 0.7686\n",
      "Epoch 94/150\n",
      "781/781 [==============================] - 2s 3ms/step - loss: 0.0754 - acc: 0.9641 - val_loss: 1.4207 - val_acc: 0.7686\n",
      "Epoch 95/150\n",
      "781/781 [==============================] - 2s 3ms/step - loss: 0.0691 - acc: 0.9693 - val_loss: 1.4207 - val_acc: 0.7686\n",
      "Epoch 96/150\n",
      "781/781 [==============================] - 2s 3ms/step - loss: 0.0882 - acc: 0.9616 - val_loss: 1.4207 - val_acc: 0.7686\n",
      "Epoch 97/150\n",
      "781/781 [==============================] - 2s 3ms/step - loss: 0.0640 - acc: 0.9718 - val_loss: 1.4207 - val_acc: 0.7686\n",
      "Epoch 98/150\n",
      "781/781 [==============================] - 2s 3ms/step - loss: 0.0721 - acc: 0.9667 - val_loss: 1.4207 - val_acc: 0.7686\n",
      "Epoch 99/150\n",
      "781/781 [==============================] - 2s 3ms/step - loss: 0.0700 - acc: 0.9770 - val_loss: 1.4207 - val_acc: 0.7686\n",
      "Epoch 100/150\n",
      "781/781 [==============================] - 2s 3ms/step - loss: 0.0662 - acc: 0.9680 - val_loss: 1.4207 - val_acc: 0.7686\n",
      "Epoch 101/150\n",
      "781/781 [==============================] - 2s 3ms/step - loss: 0.0704 - acc: 0.9718 - val_loss: 1.4207 - val_acc: 0.7686\n",
      "Epoch 102/150\n",
      "781/781 [==============================] - 2s 3ms/step - loss: 0.0684 - acc: 0.9641 - val_loss: 1.4207 - val_acc: 0.7686\n",
      "Epoch 103/150\n",
      "781/781 [==============================] - 2s 3ms/step - loss: 0.0606 - acc: 0.9795 - val_loss: 1.4207 - val_acc: 0.7686\n",
      "Epoch 104/150\n",
      "781/781 [==============================] - 2s 3ms/step - loss: 0.0611 - acc: 0.9770 - val_loss: 1.4207 - val_acc: 0.7686\n",
      "Epoch 105/150\n",
      "781/781 [==============================] - 2s 3ms/step - loss: 0.0541 - acc: 0.9795 - val_loss: 1.4207 - val_acc: 0.7686\n",
      "Epoch 106/150\n",
      "781/781 [==============================] - 2s 3ms/step - loss: 0.0557 - acc: 0.9770 - val_loss: 1.4207 - val_acc: 0.7686\n"
     ]
    }
   ],
   "source": [
    "model.compile(optimizer ='adam',loss='categorical_crossentropy', metrics =['acc'])\n",
    "\n",
    "callbacks_list = [keras.callbacks.EarlyStopping(monitor='loss', patience=20),\n",
    "                  keras.callbacks.ReduceLROnPlateau(monitor='val_loss',\n",
    "                                                       factor=0.1, patience=10)]\n",
    "\n",
    "history = model.fit(X_train, y_train,\n",
    "                    epochs=150, batch_size=64, \n",
    "                    callbacks=callbacks_list,\n",
    "                    validation_data=(X_val, y_val),\n",
    "                    shuffle=False)"
   ]
  },
  {
   "cell_type": "code",
   "execution_count": 76,
   "metadata": {},
   "outputs": [
    {
     "name": "stdout",
     "output_type": "stream",
     "text": [
      "Accuracy :  0.8057851239669421\n"
     ]
    },
    {
     "data": {
      "text/plain": [
       "array([[50,  3,  0,  1,  4],\n",
       "       [ 3, 14,  0,  0,  0],\n",
       "       [17,  0, 26,  3,  0],\n",
       "       [14,  0,  0, 51,  0],\n",
       "       [ 2,  0,  0,  0, 54]], dtype=int64)"
      ]
     },
     "execution_count": 76,
     "metadata": {},
     "output_type": "execute_result"
    }
   ],
   "source": [
    "import sklearn.metrics \n",
    "# from sklearn.metrics import confusion_matrix, classification_report\n",
    "\n",
    "y_val_pred = model.predict(X_val)\n",
    "cm = sklearn.metrics.confusion_matrix(np.argmax(y_val, axis=1), \n",
    "                                      np.argmax(y_val_pred, axis=1))\n",
    "acc = sklearn.metrics.accuracy_score(np.argmax(y_val, axis=1),\n",
    "                                     np.argmax(y_val_pred, axis=1))\n",
    "print(\"Accuracy : \", acc)\n",
    "model.save('SSL_MRCG_2DConv_1DConv.h5')    \n",
    "cm"
   ]
  },
  {
   "cell_type": "code",
   "execution_count": null,
   "metadata": {},
   "outputs": [],
   "source": []
  }
 ],
 "metadata": {
  "kernelspec": {
   "display_name": "tensorflow",
   "language": "python",
   "name": "tensorflow"
  },
  "language_info": {
   "codemirror_mode": {
    "name": "ipython",
    "version": 3
   },
   "file_extension": ".py",
   "mimetype": "text/x-python",
   "name": "python",
   "nbconvert_exporter": "python",
   "pygments_lexer": "ipython3",
   "version": "3.6.8"
  }
 },
 "nbformat": 4,
 "nbformat_minor": 2
}
